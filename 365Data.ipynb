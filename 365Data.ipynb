{
 "cells": [
  {
   "cell_type": "code",
   "execution_count": 89,
   "id": "e0855662",
   "metadata": {},
   "outputs": [],
   "source": [
    "import pandas as pd\n",
    "import numpy as np\n",
    "import matplotlib.pyplot as plt\n",
    "import seaborn as sns\n",
    "import imblearn\n",
    "import datetime as dt\n",
    "import plotly.express as px\n",
    "import plotly.graph_objects as go\n",
    "\n",
    "from sklearn.impute import SimpleImputer \n",
    "from sklearn.model_selection import train_test_split\n",
    "from imblearn.under_sampling import RandomUnderSampler\n",
    "from imblearn.over_sampling import RandomOverSampler\n",
    "from sklearn import preprocessing\n",
    "from sklearn.preprocessing import OrdinalEncoder \n",
    "from sklearn.preprocessing import MinMaxScaler\n",
    "\n",
    "\n",
    "from sklearn.neighbors import KNeighborsClassifier\n",
    "from sklearn.linear_model import LogisticRegression\n",
    "from sklearn.tree import DecisionTreeClassifier\n",
    "from sklearn.ensemble import RandomForestClassifier\n",
    "\n",
    "from sklearn.model_selection import GridSearchCV\n",
    "\n",
    "from sklearn.metrics import recall_score, precision_score, accuracy_score, f1_score\n",
    "from sklearn.metrics import ConfusionMatrixDisplay\n",
    "from sklearn.metrics import confusion_matrix, classification_report"
   ]
  },
  {
   "cell_type": "code",
   "execution_count": 2,
   "id": "08bd310f",
   "metadata": {},
   "outputs": [],
   "source": [
    "#importing data "
   ]
  },
  {
   "cell_type": "code",
   "execution_count": 3,
   "id": "21e3a859",
   "metadata": {},
   "outputs": [],
   "source": [
    "course_info=pd.read_csv('365_database/365_course_info.csv')\n",
    "course_ratings=pd.read_csv('365_database/365_course_ratings.csv')\n",
    "exam_info = pd.read_csv('365_database/365_exam_info.csv')\n",
    "quiz_info = pd.read_csv('365_database/365_quiz_info.csv')\n",
    "student_engagement = pd.read_csv('365_database/365_student_engagement.csv')\n",
    "student_exams = pd.read_csv('365_database/365_student_exams.csv')\n",
    "hub_questions = pd.read_csv('365_database/365_student_hub_questions.csv')\n",
    "student_info = pd.read_csv('365_database/365_student_info.csv')\n",
    "student_learning = pd.read_csv('365_database/365_student_learning.csv')\n",
    "student_purchases = pd.read_csv('365_database/365_student_purchases.csv')\n",
    "student_quizzes = pd.read_csv ('365_database/365_student_quizzes.csv')"
   ]
  },
  {
   "cell_type": "code",
   "execution_count": 4,
   "id": "d16f5f7c",
   "metadata": {},
   "outputs": [],
   "source": [
    "#preprocessing and preperation"
   ]
  },
  {
   "cell_type": "code",
   "execution_count": 5,
   "id": "30630857",
   "metadata": {},
   "outputs": [
    {
     "data": {
      "text/html": [
       "<div>\n",
       "<style scoped>\n",
       "    .dataframe tbody tr th:only-of-type {\n",
       "        vertical-align: middle;\n",
       "    }\n",
       "\n",
       "    .dataframe tbody tr th {\n",
       "        vertical-align: top;\n",
       "    }\n",
       "\n",
       "    .dataframe thead th {\n",
       "        text-align: right;\n",
       "    }\n",
       "</style>\n",
       "<table border=\"1\" class=\"dataframe\">\n",
       "  <thead>\n",
       "    <tr style=\"text-align: right;\">\n",
       "      <th></th>\n",
       "      <th>course_id</th>\n",
       "      <th>course_title</th>\n",
       "    </tr>\n",
       "  </thead>\n",
       "  <tbody>\n",
       "    <tr>\n",
       "      <th>0</th>\n",
       "      <td>2</td>\n",
       "      <td>Introduction to Tableau</td>\n",
       "    </tr>\n",
       "    <tr>\n",
       "      <th>1</th>\n",
       "      <td>3</td>\n",
       "      <td>The Complete Data Visualization Course with Py...</td>\n",
       "    </tr>\n",
       "    <tr>\n",
       "      <th>2</th>\n",
       "      <td>4</td>\n",
       "      <td>Introduction to R Programming</td>\n",
       "    </tr>\n",
       "    <tr>\n",
       "      <th>3</th>\n",
       "      <td>5</td>\n",
       "      <td>Data Preprocessing with NumPy</td>\n",
       "    </tr>\n",
       "    <tr>\n",
       "      <th>4</th>\n",
       "      <td>7</td>\n",
       "      <td>Introduction to Data and Data Science</td>\n",
       "    </tr>\n",
       "  </tbody>\n",
       "</table>\n",
       "</div>"
      ],
      "text/plain": [
       "   course_id                                       course_title\n",
       "0          2                            Introduction to Tableau\n",
       "1          3  The Complete Data Visualization Course with Py...\n",
       "2          4                      Introduction to R Programming\n",
       "3          5                      Data Preprocessing with NumPy\n",
       "4          7              Introduction to Data and Data Science"
      ]
     },
     "execution_count": 5,
     "metadata": {},
     "output_type": "execute_result"
    }
   ],
   "source": [
    "course_info.head()"
   ]
  },
  {
   "cell_type": "code",
   "execution_count": 6,
   "id": "3f6fa59a",
   "metadata": {},
   "outputs": [
    {
     "data": {
      "text/html": [
       "<div>\n",
       "<style scoped>\n",
       "    .dataframe tbody tr th:only-of-type {\n",
       "        vertical-align: middle;\n",
       "    }\n",
       "\n",
       "    .dataframe tbody tr th {\n",
       "        vertical-align: top;\n",
       "    }\n",
       "\n",
       "    .dataframe thead th {\n",
       "        text-align: right;\n",
       "    }\n",
       "</style>\n",
       "<table border=\"1\" class=\"dataframe\">\n",
       "  <thead>\n",
       "    <tr style=\"text-align: right;\">\n",
       "      <th></th>\n",
       "      <th>course_id</th>\n",
       "      <th>student_id</th>\n",
       "      <th>course_rating</th>\n",
       "      <th>date_rated</th>\n",
       "    </tr>\n",
       "  </thead>\n",
       "  <tbody>\n",
       "    <tr>\n",
       "      <th>0</th>\n",
       "      <td>14</td>\n",
       "      <td>258956</td>\n",
       "      <td>5</td>\n",
       "      <td>2022-07-06</td>\n",
       "    </tr>\n",
       "    <tr>\n",
       "      <th>1</th>\n",
       "      <td>7</td>\n",
       "      <td>259019</td>\n",
       "      <td>5</td>\n",
       "      <td>2022-08-30</td>\n",
       "    </tr>\n",
       "    <tr>\n",
       "      <th>2</th>\n",
       "      <td>23</td>\n",
       "      <td>259019</td>\n",
       "      <td>4</td>\n",
       "      <td>2022-08-30</td>\n",
       "    </tr>\n",
       "    <tr>\n",
       "      <th>3</th>\n",
       "      <td>14</td>\n",
       "      <td>259283</td>\n",
       "      <td>5</td>\n",
       "      <td>2022-07-08</td>\n",
       "    </tr>\n",
       "    <tr>\n",
       "      <th>4</th>\n",
       "      <td>30</td>\n",
       "      <td>259283</td>\n",
       "      <td>5</td>\n",
       "      <td>2022-07-02</td>\n",
       "    </tr>\n",
       "  </tbody>\n",
       "</table>\n",
       "</div>"
      ],
      "text/plain": [
       "   course_id  student_id  course_rating  date_rated\n",
       "0         14      258956              5  2022-07-06\n",
       "1          7      259019              5  2022-08-30\n",
       "2         23      259019              4  2022-08-30\n",
       "3         14      259283              5  2022-07-08\n",
       "4         30      259283              5  2022-07-02"
      ]
     },
     "execution_count": 6,
     "metadata": {},
     "output_type": "execute_result"
    }
   ],
   "source": [
    "course_ratings.head()"
   ]
  },
  {
   "cell_type": "code",
   "execution_count": 7,
   "id": "d5a52308",
   "metadata": {},
   "outputs": [
    {
     "data": {
      "text/html": [
       "<div>\n",
       "<style scoped>\n",
       "    .dataframe tbody tr th:only-of-type {\n",
       "        vertical-align: middle;\n",
       "    }\n",
       "\n",
       "    .dataframe tbody tr th {\n",
       "        vertical-align: top;\n",
       "    }\n",
       "\n",
       "    .dataframe thead th {\n",
       "        text-align: right;\n",
       "    }\n",
       "</style>\n",
       "<table border=\"1\" class=\"dataframe\">\n",
       "  <thead>\n",
       "    <tr style=\"text-align: right;\">\n",
       "      <th></th>\n",
       "      <th>exam_id</th>\n",
       "      <th>exam_category</th>\n",
       "      <th>exam_duration</th>\n",
       "    </tr>\n",
       "  </thead>\n",
       "  <tbody>\n",
       "    <tr>\n",
       "      <th>0</th>\n",
       "      <td>118</td>\n",
       "      <td>2</td>\n",
       "      <td>14</td>\n",
       "    </tr>\n",
       "    <tr>\n",
       "      <th>1</th>\n",
       "      <td>119</td>\n",
       "      <td>2</td>\n",
       "      <td>14</td>\n",
       "    </tr>\n",
       "    <tr>\n",
       "      <th>2</th>\n",
       "      <td>120</td>\n",
       "      <td>1</td>\n",
       "      <td>26</td>\n",
       "    </tr>\n",
       "    <tr>\n",
       "      <th>3</th>\n",
       "      <td>276</td>\n",
       "      <td>2</td>\n",
       "      <td>15</td>\n",
       "    </tr>\n",
       "    <tr>\n",
       "      <th>4</th>\n",
       "      <td>277</td>\n",
       "      <td>2</td>\n",
       "      <td>15</td>\n",
       "    </tr>\n",
       "  </tbody>\n",
       "</table>\n",
       "</div>"
      ],
      "text/plain": [
       "   exam_id  exam_category  exam_duration\n",
       "0      118              2             14\n",
       "1      119              2             14\n",
       "2      120              1             26\n",
       "3      276              2             15\n",
       "4      277              2             15"
      ]
     },
     "execution_count": 7,
     "metadata": {},
     "output_type": "execute_result"
    }
   ],
   "source": [
    "exam_info.head()"
   ]
  },
  {
   "cell_type": "code",
   "execution_count": 8,
   "id": "795b78a3",
   "metadata": {},
   "outputs": [
    {
     "data": {
      "text/html": [
       "<div>\n",
       "<style scoped>\n",
       "    .dataframe tbody tr th:only-of-type {\n",
       "        vertical-align: middle;\n",
       "    }\n",
       "\n",
       "    .dataframe tbody tr th {\n",
       "        vertical-align: top;\n",
       "    }\n",
       "\n",
       "    .dataframe thead th {\n",
       "        text-align: right;\n",
       "    }\n",
       "</style>\n",
       "<table border=\"1\" class=\"dataframe\">\n",
       "  <thead>\n",
       "    <tr style=\"text-align: right;\">\n",
       "      <th></th>\n",
       "      <th>quiz_id</th>\n",
       "      <th>question_id</th>\n",
       "      <th>answer_id</th>\n",
       "      <th>answer_correct</th>\n",
       "    </tr>\n",
       "  </thead>\n",
       "  <tbody>\n",
       "    <tr>\n",
       "      <th>0</th>\n",
       "      <td>1</td>\n",
       "      <td>1</td>\n",
       "      <td>1</td>\n",
       "      <td>n</td>\n",
       "    </tr>\n",
       "    <tr>\n",
       "      <th>1</th>\n",
       "      <td>1</td>\n",
       "      <td>1</td>\n",
       "      <td>2</td>\n",
       "      <td>y</td>\n",
       "    </tr>\n",
       "    <tr>\n",
       "      <th>2</th>\n",
       "      <td>1</td>\n",
       "      <td>1</td>\n",
       "      <td>3</td>\n",
       "      <td>n</td>\n",
       "    </tr>\n",
       "    <tr>\n",
       "      <th>3</th>\n",
       "      <td>1</td>\n",
       "      <td>1</td>\n",
       "      <td>4</td>\n",
       "      <td>n</td>\n",
       "    </tr>\n",
       "    <tr>\n",
       "      <th>4</th>\n",
       "      <td>2</td>\n",
       "      <td>2</td>\n",
       "      <td>5</td>\n",
       "      <td>n</td>\n",
       "    </tr>\n",
       "  </tbody>\n",
       "</table>\n",
       "</div>"
      ],
      "text/plain": [
       "   quiz_id  question_id  answer_id answer_correct\n",
       "0        1            1          1              n\n",
       "1        1            1          2              y\n",
       "2        1            1          3              n\n",
       "3        1            1          4              n\n",
       "4        2            2          5              n"
      ]
     },
     "execution_count": 8,
     "metadata": {},
     "output_type": "execute_result"
    }
   ],
   "source": [
    "quiz_info.head()"
   ]
  },
  {
   "cell_type": "code",
   "execution_count": 9,
   "id": "d18d8369",
   "metadata": {},
   "outputs": [
    {
     "data": {
      "text/html": [
       "<div>\n",
       "<style scoped>\n",
       "    .dataframe tbody tr th:only-of-type {\n",
       "        vertical-align: middle;\n",
       "    }\n",
       "\n",
       "    .dataframe tbody tr th {\n",
       "        vertical-align: top;\n",
       "    }\n",
       "\n",
       "    .dataframe thead th {\n",
       "        text-align: right;\n",
       "    }\n",
       "</style>\n",
       "<table border=\"1\" class=\"dataframe\">\n",
       "  <thead>\n",
       "    <tr style=\"text-align: right;\">\n",
       "      <th></th>\n",
       "      <th>engagement_id</th>\n",
       "      <th>student_id</th>\n",
       "      <th>engagement_quizzes</th>\n",
       "      <th>engagement_exams</th>\n",
       "      <th>engagement_lessons</th>\n",
       "      <th>date_engaged</th>\n",
       "    </tr>\n",
       "  </thead>\n",
       "  <tbody>\n",
       "    <tr>\n",
       "      <th>0</th>\n",
       "      <td>1</td>\n",
       "      <td>274999</td>\n",
       "      <td>1</td>\n",
       "      <td>1</td>\n",
       "      <td>1</td>\n",
       "      <td>2022-05-27</td>\n",
       "    </tr>\n",
       "    <tr>\n",
       "      <th>1</th>\n",
       "      <td>3</td>\n",
       "      <td>274501</td>\n",
       "      <td>0</td>\n",
       "      <td>0</td>\n",
       "      <td>1</td>\n",
       "      <td>2022-05-27</td>\n",
       "    </tr>\n",
       "    <tr>\n",
       "      <th>2</th>\n",
       "      <td>4</td>\n",
       "      <td>272842</td>\n",
       "      <td>1</td>\n",
       "      <td>1</td>\n",
       "      <td>1</td>\n",
       "      <td>2022-05-27</td>\n",
       "    </tr>\n",
       "    <tr>\n",
       "      <th>3</th>\n",
       "      <td>8</td>\n",
       "      <td>275173</td>\n",
       "      <td>0</td>\n",
       "      <td>0</td>\n",
       "      <td>1</td>\n",
       "      <td>2022-05-27</td>\n",
       "    </tr>\n",
       "    <tr>\n",
       "      <th>4</th>\n",
       "      <td>11</td>\n",
       "      <td>274876</td>\n",
       "      <td>0</td>\n",
       "      <td>1</td>\n",
       "      <td>0</td>\n",
       "      <td>2022-05-27</td>\n",
       "    </tr>\n",
       "  </tbody>\n",
       "</table>\n",
       "</div>"
      ],
      "text/plain": [
       "   engagement_id  student_id  engagement_quizzes  engagement_exams  \\\n",
       "0              1      274999                   1                 1   \n",
       "1              3      274501                   0                 0   \n",
       "2              4      272842                   1                 1   \n",
       "3              8      275173                   0                 0   \n",
       "4             11      274876                   0                 1   \n",
       "\n",
       "   engagement_lessons date_engaged  \n",
       "0                   1   2022-05-27  \n",
       "1                   1   2022-05-27  \n",
       "2                   1   2022-05-27  \n",
       "3                   1   2022-05-27  \n",
       "4                   0   2022-05-27  "
      ]
     },
     "execution_count": 9,
     "metadata": {},
     "output_type": "execute_result"
    }
   ],
   "source": [
    "student_engagement.head()"
   ]
  },
  {
   "cell_type": "code",
   "execution_count": 10,
   "id": "c6d9fa7a",
   "metadata": {},
   "outputs": [
    {
     "data": {
      "text/html": [
       "<div>\n",
       "<style scoped>\n",
       "    .dataframe tbody tr th:only-of-type {\n",
       "        vertical-align: middle;\n",
       "    }\n",
       "\n",
       "    .dataframe tbody tr th {\n",
       "        vertical-align: top;\n",
       "    }\n",
       "\n",
       "    .dataframe thead th {\n",
       "        text-align: right;\n",
       "    }\n",
       "</style>\n",
       "<table border=\"1\" class=\"dataframe\">\n",
       "  <thead>\n",
       "    <tr style=\"text-align: right;\">\n",
       "      <th></th>\n",
       "      <th>exam_attempt_id</th>\n",
       "      <th>student_id</th>\n",
       "      <th>exam_id</th>\n",
       "      <th>exam_result</th>\n",
       "      <th>exam_completion_time</th>\n",
       "      <th>date_exam_completed</th>\n",
       "    </tr>\n",
       "  </thead>\n",
       "  <tbody>\n",
       "    <tr>\n",
       "      <th>0</th>\n",
       "      <td>173311</td>\n",
       "      <td>258803</td>\n",
       "      <td>475</td>\n",
       "      <td>83</td>\n",
       "      <td>5.17</td>\n",
       "      <td>2022-01-01</td>\n",
       "    </tr>\n",
       "    <tr>\n",
       "      <th>1</th>\n",
       "      <td>173332</td>\n",
       "      <td>258815</td>\n",
       "      <td>380</td>\n",
       "      <td>0</td>\n",
       "      <td>10.02</td>\n",
       "      <td>2022-01-01</td>\n",
       "    </tr>\n",
       "    <tr>\n",
       "      <th>2</th>\n",
       "      <td>173333</td>\n",
       "      <td>258815</td>\n",
       "      <td>380</td>\n",
       "      <td>67</td>\n",
       "      <td>7.93</td>\n",
       "      <td>2022-01-01</td>\n",
       "    </tr>\n",
       "    <tr>\n",
       "      <th>3</th>\n",
       "      <td>173335</td>\n",
       "      <td>258815</td>\n",
       "      <td>380</td>\n",
       "      <td>100</td>\n",
       "      <td>0.60</td>\n",
       "      <td>2022-01-01</td>\n",
       "    </tr>\n",
       "    <tr>\n",
       "      <th>4</th>\n",
       "      <td>173336</td>\n",
       "      <td>258815</td>\n",
       "      <td>380</td>\n",
       "      <td>0</td>\n",
       "      <td>10.02</td>\n",
       "      <td>2022-01-01</td>\n",
       "    </tr>\n",
       "  </tbody>\n",
       "</table>\n",
       "</div>"
      ],
      "text/plain": [
       "   exam_attempt_id  student_id  exam_id  exam_result  exam_completion_time  \\\n",
       "0           173311      258803      475           83                  5.17   \n",
       "1           173332      258815      380            0                 10.02   \n",
       "2           173333      258815      380           67                  7.93   \n",
       "3           173335      258815      380          100                  0.60   \n",
       "4           173336      258815      380            0                 10.02   \n",
       "\n",
       "  date_exam_completed  \n",
       "0          2022-01-01  \n",
       "1          2022-01-01  \n",
       "2          2022-01-01  \n",
       "3          2022-01-01  \n",
       "4          2022-01-01  "
      ]
     },
     "execution_count": 10,
     "metadata": {},
     "output_type": "execute_result"
    }
   ],
   "source": [
    "student_exams.head()"
   ]
  },
  {
   "cell_type": "code",
   "execution_count": 11,
   "id": "3b17348c",
   "metadata": {},
   "outputs": [
    {
     "data": {
      "text/html": [
       "<div>\n",
       "<style scoped>\n",
       "    .dataframe tbody tr th:only-of-type {\n",
       "        vertical-align: middle;\n",
       "    }\n",
       "\n",
       "    .dataframe tbody tr th {\n",
       "        vertical-align: top;\n",
       "    }\n",
       "\n",
       "    .dataframe thead th {\n",
       "        text-align: right;\n",
       "    }\n",
       "</style>\n",
       "<table border=\"1\" class=\"dataframe\">\n",
       "  <thead>\n",
       "    <tr style=\"text-align: right;\">\n",
       "      <th></th>\n",
       "      <th>hub_question_id</th>\n",
       "      <th>student_id</th>\n",
       "      <th>date_question_asked</th>\n",
       "    </tr>\n",
       "  </thead>\n",
       "  <tbody>\n",
       "    <tr>\n",
       "      <th>0</th>\n",
       "      <td>7619</td>\n",
       "      <td>258803</td>\n",
       "      <td>2022-01-03</td>\n",
       "    </tr>\n",
       "    <tr>\n",
       "      <th>1</th>\n",
       "      <td>7630</td>\n",
       "      <td>258803</td>\n",
       "      <td>2022-01-04</td>\n",
       "    </tr>\n",
       "    <tr>\n",
       "      <th>2</th>\n",
       "      <td>7662</td>\n",
       "      <td>259342</td>\n",
       "      <td>2022-01-05</td>\n",
       "    </tr>\n",
       "    <tr>\n",
       "      <th>3</th>\n",
       "      <td>7667</td>\n",
       "      <td>259391</td>\n",
       "      <td>2022-01-05</td>\n",
       "    </tr>\n",
       "    <tr>\n",
       "      <th>4</th>\n",
       "      <td>7668</td>\n",
       "      <td>259174</td>\n",
       "      <td>2022-01-05</td>\n",
       "    </tr>\n",
       "  </tbody>\n",
       "</table>\n",
       "</div>"
      ],
      "text/plain": [
       "   hub_question_id  student_id date_question_asked\n",
       "0             7619      258803          2022-01-03\n",
       "1             7630      258803          2022-01-04\n",
       "2             7662      259342          2022-01-05\n",
       "3             7667      259391          2022-01-05\n",
       "4             7668      259174          2022-01-05"
      ]
     },
     "execution_count": 11,
     "metadata": {},
     "output_type": "execute_result"
    }
   ],
   "source": [
    "hub_questions.head()"
   ]
  },
  {
   "cell_type": "code",
   "execution_count": 12,
   "id": "f25e9050",
   "metadata": {},
   "outputs": [
    {
     "data": {
      "text/html": [
       "<div>\n",
       "<style scoped>\n",
       "    .dataframe tbody tr th:only-of-type {\n",
       "        vertical-align: middle;\n",
       "    }\n",
       "\n",
       "    .dataframe tbody tr th {\n",
       "        vertical-align: top;\n",
       "    }\n",
       "\n",
       "    .dataframe thead th {\n",
       "        text-align: right;\n",
       "    }\n",
       "</style>\n",
       "<table border=\"1\" class=\"dataframe\">\n",
       "  <thead>\n",
       "    <tr style=\"text-align: right;\">\n",
       "      <th></th>\n",
       "      <th>student_id</th>\n",
       "      <th>student_country</th>\n",
       "      <th>date_registered</th>\n",
       "    </tr>\n",
       "  </thead>\n",
       "  <tbody>\n",
       "    <tr>\n",
       "      <th>0</th>\n",
       "      <td>258798</td>\n",
       "      <td>IN</td>\n",
       "      <td>2022-01-01</td>\n",
       "    </tr>\n",
       "    <tr>\n",
       "      <th>1</th>\n",
       "      <td>258799</td>\n",
       "      <td>CO</td>\n",
       "      <td>2022-01-01</td>\n",
       "    </tr>\n",
       "    <tr>\n",
       "      <th>2</th>\n",
       "      <td>258800</td>\n",
       "      <td>CA</td>\n",
       "      <td>2022-01-01</td>\n",
       "    </tr>\n",
       "    <tr>\n",
       "      <th>3</th>\n",
       "      <td>258801</td>\n",
       "      <td>IN</td>\n",
       "      <td>2022-01-01</td>\n",
       "    </tr>\n",
       "    <tr>\n",
       "      <th>4</th>\n",
       "      <td>258802</td>\n",
       "      <td>US</td>\n",
       "      <td>2022-01-01</td>\n",
       "    </tr>\n",
       "  </tbody>\n",
       "</table>\n",
       "</div>"
      ],
      "text/plain": [
       "   student_id student_country date_registered\n",
       "0      258798              IN      2022-01-01\n",
       "1      258799              CO      2022-01-01\n",
       "2      258800              CA      2022-01-01\n",
       "3      258801              IN      2022-01-01\n",
       "4      258802              US      2022-01-01"
      ]
     },
     "execution_count": 12,
     "metadata": {},
     "output_type": "execute_result"
    }
   ],
   "source": [
    "student_info.head()"
   ]
  },
  {
   "cell_type": "code",
   "execution_count": 13,
   "id": "28e4e5df",
   "metadata": {},
   "outputs": [
    {
     "data": {
      "text/html": [
       "<div>\n",
       "<style scoped>\n",
       "    .dataframe tbody tr th:only-of-type {\n",
       "        vertical-align: middle;\n",
       "    }\n",
       "\n",
       "    .dataframe tbody tr th {\n",
       "        vertical-align: top;\n",
       "    }\n",
       "\n",
       "    .dataframe thead th {\n",
       "        text-align: right;\n",
       "    }\n",
       "</style>\n",
       "<table border=\"1\" class=\"dataframe\">\n",
       "  <thead>\n",
       "    <tr style=\"text-align: right;\">\n",
       "      <th></th>\n",
       "      <th>student_id</th>\n",
       "      <th>course_id</th>\n",
       "      <th>minutes_watched</th>\n",
       "      <th>date_watched</th>\n",
       "    </tr>\n",
       "  </thead>\n",
       "  <tbody>\n",
       "    <tr>\n",
       "      <th>0</th>\n",
       "      <td>258798</td>\n",
       "      <td>23</td>\n",
       "      <td>0.3</td>\n",
       "      <td>2022-01-01</td>\n",
       "    </tr>\n",
       "    <tr>\n",
       "      <th>1</th>\n",
       "      <td>258800</td>\n",
       "      <td>2</td>\n",
       "      <td>12.9</td>\n",
       "      <td>2022-04-01</td>\n",
       "    </tr>\n",
       "    <tr>\n",
       "      <th>2</th>\n",
       "      <td>258800</td>\n",
       "      <td>7</td>\n",
       "      <td>46.8</td>\n",
       "      <td>2022-01-03</td>\n",
       "    </tr>\n",
       "    <tr>\n",
       "      <th>3</th>\n",
       "      <td>258800</td>\n",
       "      <td>7</td>\n",
       "      <td>4.3</td>\n",
       "      <td>2022-01-04</td>\n",
       "    </tr>\n",
       "    <tr>\n",
       "      <th>4</th>\n",
       "      <td>258800</td>\n",
       "      <td>7</td>\n",
       "      <td>31.7</td>\n",
       "      <td>2022-01-07</td>\n",
       "    </tr>\n",
       "  </tbody>\n",
       "</table>\n",
       "</div>"
      ],
      "text/plain": [
       "   student_id  course_id  minutes_watched date_watched\n",
       "0      258798         23              0.3   2022-01-01\n",
       "1      258800          2             12.9   2022-04-01\n",
       "2      258800          7             46.8   2022-01-03\n",
       "3      258800          7              4.3   2022-01-04\n",
       "4      258800          7             31.7   2022-01-07"
      ]
     },
     "execution_count": 13,
     "metadata": {},
     "output_type": "execute_result"
    }
   ],
   "source": [
    "student_learning.head()"
   ]
  },
  {
   "cell_type": "code",
   "execution_count": 14,
   "id": "66976351",
   "metadata": {},
   "outputs": [
    {
     "data": {
      "text/html": [
       "<div>\n",
       "<style scoped>\n",
       "    .dataframe tbody tr th:only-of-type {\n",
       "        vertical-align: middle;\n",
       "    }\n",
       "\n",
       "    .dataframe tbody tr th {\n",
       "        vertical-align: top;\n",
       "    }\n",
       "\n",
       "    .dataframe thead th {\n",
       "        text-align: right;\n",
       "    }\n",
       "</style>\n",
       "<table border=\"1\" class=\"dataframe\">\n",
       "  <thead>\n",
       "    <tr style=\"text-align: right;\">\n",
       "      <th></th>\n",
       "      <th>purchase_id</th>\n",
       "      <th>student_id</th>\n",
       "      <th>purchase_type</th>\n",
       "      <th>date_purchased</th>\n",
       "    </tr>\n",
       "  </thead>\n",
       "  <tbody>\n",
       "    <tr>\n",
       "      <th>0</th>\n",
       "      <td>15781</td>\n",
       "      <td>258800</td>\n",
       "      <td>Annual</td>\n",
       "      <td>2022-01-01</td>\n",
       "    </tr>\n",
       "    <tr>\n",
       "      <th>1</th>\n",
       "      <td>15786</td>\n",
       "      <td>258803</td>\n",
       "      <td>Annual</td>\n",
       "      <td>2022-01-01</td>\n",
       "    </tr>\n",
       "    <tr>\n",
       "      <th>2</th>\n",
       "      <td>15808</td>\n",
       "      <td>258862</td>\n",
       "      <td>Annual</td>\n",
       "      <td>2022-01-01</td>\n",
       "    </tr>\n",
       "    <tr>\n",
       "      <th>3</th>\n",
       "      <td>15809</td>\n",
       "      <td>258865</td>\n",
       "      <td>Annual</td>\n",
       "      <td>2022-01-01</td>\n",
       "    </tr>\n",
       "    <tr>\n",
       "      <th>4</th>\n",
       "      <td>15811</td>\n",
       "      <td>258878</td>\n",
       "      <td>Annual</td>\n",
       "      <td>2022-01-01</td>\n",
       "    </tr>\n",
       "  </tbody>\n",
       "</table>\n",
       "</div>"
      ],
      "text/plain": [
       "   purchase_id  student_id purchase_type date_purchased\n",
       "0        15781      258800        Annual     2022-01-01\n",
       "1        15786      258803        Annual     2022-01-01\n",
       "2        15808      258862        Annual     2022-01-01\n",
       "3        15809      258865        Annual     2022-01-01\n",
       "4        15811      258878        Annual     2022-01-01"
      ]
     },
     "execution_count": 14,
     "metadata": {},
     "output_type": "execute_result"
    }
   ],
   "source": [
    "student_purchases.head()"
   ]
  },
  {
   "cell_type": "code",
   "execution_count": 15,
   "id": "ae3cfe7a",
   "metadata": {},
   "outputs": [
    {
     "data": {
      "text/html": [
       "<div>\n",
       "<style scoped>\n",
       "    .dataframe tbody tr th:only-of-type {\n",
       "        vertical-align: middle;\n",
       "    }\n",
       "\n",
       "    .dataframe tbody tr th {\n",
       "        vertical-align: top;\n",
       "    }\n",
       "\n",
       "    .dataframe thead th {\n",
       "        text-align: right;\n",
       "    }\n",
       "</style>\n",
       "<table border=\"1\" class=\"dataframe\">\n",
       "  <thead>\n",
       "    <tr style=\"text-align: right;\">\n",
       "      <th></th>\n",
       "      <th>student_id</th>\n",
       "      <th>quiz_id</th>\n",
       "      <th>question_id</th>\n",
       "      <th>answer_id</th>\n",
       "    </tr>\n",
       "  </thead>\n",
       "  <tbody>\n",
       "    <tr>\n",
       "      <th>0</th>\n",
       "      <td>258803</td>\n",
       "      <td>537</td>\n",
       "      <td>796</td>\n",
       "      <td>3139.0</td>\n",
       "    </tr>\n",
       "    <tr>\n",
       "      <th>1</th>\n",
       "      <td>258803</td>\n",
       "      <td>159</td>\n",
       "      <td>793</td>\n",
       "      <td>3127.0</td>\n",
       "    </tr>\n",
       "    <tr>\n",
       "      <th>2</th>\n",
       "      <td>258803</td>\n",
       "      <td>159</td>\n",
       "      <td>794</td>\n",
       "      <td>3132.0</td>\n",
       "    </tr>\n",
       "    <tr>\n",
       "      <th>3</th>\n",
       "      <td>258803</td>\n",
       "      <td>160</td>\n",
       "      <td>181</td>\n",
       "      <td>710.0</td>\n",
       "    </tr>\n",
       "    <tr>\n",
       "      <th>4</th>\n",
       "      <td>258803</td>\n",
       "      <td>161</td>\n",
       "      <td>184</td>\n",
       "      <td>723.0</td>\n",
       "    </tr>\n",
       "  </tbody>\n",
       "</table>\n",
       "</div>"
      ],
      "text/plain": [
       "   student_id  quiz_id  question_id  answer_id\n",
       "0      258803      537          796     3139.0\n",
       "1      258803      159          793     3127.0\n",
       "2      258803      159          794     3132.0\n",
       "3      258803      160          181      710.0\n",
       "4      258803      161          184      723.0"
      ]
     },
     "execution_count": 15,
     "metadata": {},
     "output_type": "execute_result"
    }
   ],
   "source": [
    "student_quizzes.head()"
   ]
  },
  {
   "cell_type": "code",
   "execution_count": 16,
   "id": "5135497b",
   "metadata": {},
   "outputs": [],
   "source": [
    "#merging data"
   ]
  },
  {
   "cell_type": "code",
   "execution_count": 17,
   "id": "2b51ce60",
   "metadata": {},
   "outputs": [],
   "source": [
    "df = pd.merge(student_learning, student_purchases, how='left', on='student_id')\\\n",
    "     .merge(student_info, how='left', on='student_id')\\\n",
    "     .merge(course_ratings, how='left', on=['student_id', 'course_id'])"
   ]
  },
  {
   "cell_type": "code",
   "execution_count": 18,
   "id": "bbc55927",
   "metadata": {},
   "outputs": [
    {
     "data": {
      "text/html": [
       "<div>\n",
       "<style scoped>\n",
       "    .dataframe tbody tr th:only-of-type {\n",
       "        vertical-align: middle;\n",
       "    }\n",
       "\n",
       "    .dataframe tbody tr th {\n",
       "        vertical-align: top;\n",
       "    }\n",
       "\n",
       "    .dataframe thead th {\n",
       "        text-align: right;\n",
       "    }\n",
       "</style>\n",
       "<table border=\"1\" class=\"dataframe\">\n",
       "  <thead>\n",
       "    <tr style=\"text-align: right;\">\n",
       "      <th></th>\n",
       "      <th>student_id</th>\n",
       "      <th>course_id</th>\n",
       "      <th>minutes_watched</th>\n",
       "      <th>date_watched</th>\n",
       "      <th>purchase_id</th>\n",
       "      <th>purchase_type</th>\n",
       "      <th>date_purchased</th>\n",
       "      <th>student_country</th>\n",
       "      <th>date_registered</th>\n",
       "      <th>course_rating</th>\n",
       "      <th>date_rated</th>\n",
       "    </tr>\n",
       "  </thead>\n",
       "  <tbody>\n",
       "    <tr>\n",
       "      <th>0</th>\n",
       "      <td>258798</td>\n",
       "      <td>23</td>\n",
       "      <td>0.3</td>\n",
       "      <td>2022-01-01</td>\n",
       "      <td>NaN</td>\n",
       "      <td>NaN</td>\n",
       "      <td>NaN</td>\n",
       "      <td>IN</td>\n",
       "      <td>2022-01-01</td>\n",
       "      <td>NaN</td>\n",
       "      <td>NaN</td>\n",
       "    </tr>\n",
       "    <tr>\n",
       "      <th>1</th>\n",
       "      <td>258800</td>\n",
       "      <td>2</td>\n",
       "      <td>12.9</td>\n",
       "      <td>2022-04-01</td>\n",
       "      <td>15781.0</td>\n",
       "      <td>Annual</td>\n",
       "      <td>2022-01-01</td>\n",
       "      <td>CA</td>\n",
       "      <td>2022-01-01</td>\n",
       "      <td>NaN</td>\n",
       "      <td>NaN</td>\n",
       "    </tr>\n",
       "    <tr>\n",
       "      <th>2</th>\n",
       "      <td>258800</td>\n",
       "      <td>7</td>\n",
       "      <td>46.8</td>\n",
       "      <td>2022-01-03</td>\n",
       "      <td>15781.0</td>\n",
       "      <td>Annual</td>\n",
       "      <td>2022-01-01</td>\n",
       "      <td>CA</td>\n",
       "      <td>2022-01-01</td>\n",
       "      <td>NaN</td>\n",
       "      <td>NaN</td>\n",
       "    </tr>\n",
       "    <tr>\n",
       "      <th>3</th>\n",
       "      <td>258800</td>\n",
       "      <td>7</td>\n",
       "      <td>4.3</td>\n",
       "      <td>2022-01-04</td>\n",
       "      <td>15781.0</td>\n",
       "      <td>Annual</td>\n",
       "      <td>2022-01-01</td>\n",
       "      <td>CA</td>\n",
       "      <td>2022-01-01</td>\n",
       "      <td>NaN</td>\n",
       "      <td>NaN</td>\n",
       "    </tr>\n",
       "    <tr>\n",
       "      <th>4</th>\n",
       "      <td>258800</td>\n",
       "      <td>7</td>\n",
       "      <td>31.7</td>\n",
       "      <td>2022-01-07</td>\n",
       "      <td>15781.0</td>\n",
       "      <td>Annual</td>\n",
       "      <td>2022-01-01</td>\n",
       "      <td>CA</td>\n",
       "      <td>2022-01-01</td>\n",
       "      <td>NaN</td>\n",
       "      <td>NaN</td>\n",
       "    </tr>\n",
       "  </tbody>\n",
       "</table>\n",
       "</div>"
      ],
      "text/plain": [
       "   student_id  course_id  minutes_watched date_watched  purchase_id  \\\n",
       "0      258798         23              0.3   2022-01-01          NaN   \n",
       "1      258800          2             12.9   2022-04-01      15781.0   \n",
       "2      258800          7             46.8   2022-01-03      15781.0   \n",
       "3      258800          7              4.3   2022-01-04      15781.0   \n",
       "4      258800          7             31.7   2022-01-07      15781.0   \n",
       "\n",
       "  purchase_type date_purchased student_country date_registered  course_rating  \\\n",
       "0           NaN            NaN              IN      2022-01-01            NaN   \n",
       "1        Annual     2022-01-01              CA      2022-01-01            NaN   \n",
       "2        Annual     2022-01-01              CA      2022-01-01            NaN   \n",
       "3        Annual     2022-01-01              CA      2022-01-01            NaN   \n",
       "4        Annual     2022-01-01              CA      2022-01-01            NaN   \n",
       "\n",
       "  date_rated  \n",
       "0        NaN  \n",
       "1        NaN  \n",
       "2        NaN  \n",
       "3        NaN  \n",
       "4        NaN  "
      ]
     },
     "execution_count": 18,
     "metadata": {},
     "output_type": "execute_result"
    }
   ],
   "source": [
    "df.head()"
   ]
  },
  {
   "cell_type": "code",
   "execution_count": 19,
   "id": "ebb619a9",
   "metadata": {},
   "outputs": [
    {
     "data": {
      "text/plain": [
       "(87633, 11)"
      ]
     },
     "execution_count": 19,
     "metadata": {},
     "output_type": "execute_result"
    }
   ],
   "source": [
    "df.shape"
   ]
  },
  {
   "cell_type": "code",
   "execution_count": 20,
   "id": "727b2fc2",
   "metadata": {},
   "outputs": [
    {
     "data": {
      "text/plain": [
       "0           NaN\n",
       "1        Annual\n",
       "2        Annual\n",
       "3        Annual\n",
       "4        Annual\n",
       "          ...  \n",
       "87628       NaN\n",
       "87629       NaN\n",
       "87630       NaN\n",
       "87631       NaN\n",
       "87632       NaN\n",
       "Name: purchase_type, Length: 87633, dtype: object"
      ]
     },
     "execution_count": 20,
     "metadata": {},
     "output_type": "execute_result"
    }
   ],
   "source": [
    "df['purchase_type']"
   ]
  },
  {
   "cell_type": "code",
   "execution_count": 21,
   "id": "923920d0",
   "metadata": {},
   "outputs": [
    {
     "data": {
      "text/plain": [
       "array([nan, 'Annual', 'Monthly', 'Quarterly'], dtype=object)"
      ]
     },
     "execution_count": 21,
     "metadata": {},
     "output_type": "execute_result"
    }
   ],
   "source": [
    "df['purchase_type'].unique()"
   ]
  },
  {
   "cell_type": "code",
   "execution_count": 22,
   "id": "3f3b7d21",
   "metadata": {},
   "outputs": [],
   "source": [
    "df['purchase'] = df['purchase_type']\n",
    "\n",
    "dic = {'Annual':1, 'Monthly':1, 'Quarterly': 1, np.nan: 0}\n",
    "\n",
    "df['purchase'] = df['purchase'].map(dic)\n",
    "\n",
    "df['purchase'] = df['purchase'].astype('int')\n"
   ]
  },
  {
   "cell_type": "code",
   "execution_count": 23,
   "id": "9d077370",
   "metadata": {},
   "outputs": [],
   "source": [
    "df.drop('purchase_type', axis=1, inplace=True)"
   ]
  },
  {
   "cell_type": "code",
   "execution_count": 24,
   "id": "ae2b8b6a",
   "metadata": {},
   "outputs": [
    {
     "data": {
      "text/html": [
       "<div>\n",
       "<style scoped>\n",
       "    .dataframe tbody tr th:only-of-type {\n",
       "        vertical-align: middle;\n",
       "    }\n",
       "\n",
       "    .dataframe tbody tr th {\n",
       "        vertical-align: top;\n",
       "    }\n",
       "\n",
       "    .dataframe thead th {\n",
       "        text-align: right;\n",
       "    }\n",
       "</style>\n",
       "<table border=\"1\" class=\"dataframe\">\n",
       "  <thead>\n",
       "    <tr style=\"text-align: right;\">\n",
       "      <th></th>\n",
       "      <th>student_id</th>\n",
       "      <th>course_id</th>\n",
       "      <th>minutes_watched</th>\n",
       "      <th>date_watched</th>\n",
       "      <th>purchase_id</th>\n",
       "      <th>date_purchased</th>\n",
       "      <th>student_country</th>\n",
       "      <th>date_registered</th>\n",
       "      <th>course_rating</th>\n",
       "      <th>date_rated</th>\n",
       "      <th>purchase</th>\n",
       "    </tr>\n",
       "  </thead>\n",
       "  <tbody>\n",
       "    <tr>\n",
       "      <th>0</th>\n",
       "      <td>258798</td>\n",
       "      <td>23</td>\n",
       "      <td>0.3</td>\n",
       "      <td>2022-01-01</td>\n",
       "      <td>NaN</td>\n",
       "      <td>NaN</td>\n",
       "      <td>IN</td>\n",
       "      <td>2022-01-01</td>\n",
       "      <td>NaN</td>\n",
       "      <td>NaN</td>\n",
       "      <td>0</td>\n",
       "    </tr>\n",
       "    <tr>\n",
       "      <th>1</th>\n",
       "      <td>258800</td>\n",
       "      <td>2</td>\n",
       "      <td>12.9</td>\n",
       "      <td>2022-04-01</td>\n",
       "      <td>15781.0</td>\n",
       "      <td>2022-01-01</td>\n",
       "      <td>CA</td>\n",
       "      <td>2022-01-01</td>\n",
       "      <td>NaN</td>\n",
       "      <td>NaN</td>\n",
       "      <td>1</td>\n",
       "    </tr>\n",
       "    <tr>\n",
       "      <th>2</th>\n",
       "      <td>258800</td>\n",
       "      <td>7</td>\n",
       "      <td>46.8</td>\n",
       "      <td>2022-01-03</td>\n",
       "      <td>15781.0</td>\n",
       "      <td>2022-01-01</td>\n",
       "      <td>CA</td>\n",
       "      <td>2022-01-01</td>\n",
       "      <td>NaN</td>\n",
       "      <td>NaN</td>\n",
       "      <td>1</td>\n",
       "    </tr>\n",
       "    <tr>\n",
       "      <th>3</th>\n",
       "      <td>258800</td>\n",
       "      <td>7</td>\n",
       "      <td>4.3</td>\n",
       "      <td>2022-01-04</td>\n",
       "      <td>15781.0</td>\n",
       "      <td>2022-01-01</td>\n",
       "      <td>CA</td>\n",
       "      <td>2022-01-01</td>\n",
       "      <td>NaN</td>\n",
       "      <td>NaN</td>\n",
       "      <td>1</td>\n",
       "    </tr>\n",
       "    <tr>\n",
       "      <th>4</th>\n",
       "      <td>258800</td>\n",
       "      <td>7</td>\n",
       "      <td>31.7</td>\n",
       "      <td>2022-01-07</td>\n",
       "      <td>15781.0</td>\n",
       "      <td>2022-01-01</td>\n",
       "      <td>CA</td>\n",
       "      <td>2022-01-01</td>\n",
       "      <td>NaN</td>\n",
       "      <td>NaN</td>\n",
       "      <td>1</td>\n",
       "    </tr>\n",
       "  </tbody>\n",
       "</table>\n",
       "</div>"
      ],
      "text/plain": [
       "   student_id  course_id  minutes_watched date_watched  purchase_id  \\\n",
       "0      258798         23              0.3   2022-01-01          NaN   \n",
       "1      258800          2             12.9   2022-04-01      15781.0   \n",
       "2      258800          7             46.8   2022-01-03      15781.0   \n",
       "3      258800          7              4.3   2022-01-04      15781.0   \n",
       "4      258800          7             31.7   2022-01-07      15781.0   \n",
       "\n",
       "  date_purchased student_country date_registered  course_rating date_rated  \\\n",
       "0            NaN              IN      2022-01-01            NaN        NaN   \n",
       "1     2022-01-01              CA      2022-01-01            NaN        NaN   \n",
       "2     2022-01-01              CA      2022-01-01            NaN        NaN   \n",
       "3     2022-01-01              CA      2022-01-01            NaN        NaN   \n",
       "4     2022-01-01              CA      2022-01-01            NaN        NaN   \n",
       "\n",
       "   purchase  \n",
       "0         0  \n",
       "1         1  \n",
       "2         1  \n",
       "3         1  \n",
       "4         1  "
      ]
     },
     "execution_count": 24,
     "metadata": {},
     "output_type": "execute_result"
    }
   ],
   "source": [
    "df.head()"
   ]
  },
  {
   "cell_type": "code",
   "execution_count": 25,
   "id": "e65e9f25",
   "metadata": {},
   "outputs": [
    {
     "data": {
      "text/plain": [
       "(87633, 11)"
      ]
     },
     "execution_count": 25,
     "metadata": {},
     "output_type": "execute_result"
    }
   ],
   "source": [
    "df.shape"
   ]
  },
  {
   "cell_type": "code",
   "execution_count": 26,
   "id": "b02ccab9",
   "metadata": {},
   "outputs": [
    {
     "data": {
      "text/html": [
       "<div>\n",
       "<style scoped>\n",
       "    .dataframe tbody tr th:only-of-type {\n",
       "        vertical-align: middle;\n",
       "    }\n",
       "\n",
       "    .dataframe tbody tr th {\n",
       "        vertical-align: top;\n",
       "    }\n",
       "\n",
       "    .dataframe thead th {\n",
       "        text-align: right;\n",
       "    }\n",
       "</style>\n",
       "<table border=\"1\" class=\"dataframe\">\n",
       "  <thead>\n",
       "    <tr style=\"text-align: right;\">\n",
       "      <th></th>\n",
       "      <th>course_id</th>\n",
       "      <th>minutes_watched</th>\n",
       "      <th>date_watched</th>\n",
       "      <th>date_purchased</th>\n",
       "      <th>student_country</th>\n",
       "      <th>date_registered</th>\n",
       "      <th>course_rating</th>\n",
       "      <th>date_rated</th>\n",
       "      <th>purchase</th>\n",
       "    </tr>\n",
       "  </thead>\n",
       "  <tbody>\n",
       "    <tr>\n",
       "      <th>0</th>\n",
       "      <td>23</td>\n",
       "      <td>0.3</td>\n",
       "      <td>2022-01-01</td>\n",
       "      <td>NaN</td>\n",
       "      <td>IN</td>\n",
       "      <td>2022-01-01</td>\n",
       "      <td>NaN</td>\n",
       "      <td>NaN</td>\n",
       "      <td>0</td>\n",
       "    </tr>\n",
       "    <tr>\n",
       "      <th>1</th>\n",
       "      <td>2</td>\n",
       "      <td>12.9</td>\n",
       "      <td>2022-04-01</td>\n",
       "      <td>2022-01-01</td>\n",
       "      <td>CA</td>\n",
       "      <td>2022-01-01</td>\n",
       "      <td>NaN</td>\n",
       "      <td>NaN</td>\n",
       "      <td>1</td>\n",
       "    </tr>\n",
       "    <tr>\n",
       "      <th>2</th>\n",
       "      <td>7</td>\n",
       "      <td>46.8</td>\n",
       "      <td>2022-01-03</td>\n",
       "      <td>2022-01-01</td>\n",
       "      <td>CA</td>\n",
       "      <td>2022-01-01</td>\n",
       "      <td>NaN</td>\n",
       "      <td>NaN</td>\n",
       "      <td>1</td>\n",
       "    </tr>\n",
       "    <tr>\n",
       "      <th>3</th>\n",
       "      <td>7</td>\n",
       "      <td>4.3</td>\n",
       "      <td>2022-01-04</td>\n",
       "      <td>2022-01-01</td>\n",
       "      <td>CA</td>\n",
       "      <td>2022-01-01</td>\n",
       "      <td>NaN</td>\n",
       "      <td>NaN</td>\n",
       "      <td>1</td>\n",
       "    </tr>\n",
       "    <tr>\n",
       "      <th>4</th>\n",
       "      <td>7</td>\n",
       "      <td>31.7</td>\n",
       "      <td>2022-01-07</td>\n",
       "      <td>2022-01-01</td>\n",
       "      <td>CA</td>\n",
       "      <td>2022-01-01</td>\n",
       "      <td>NaN</td>\n",
       "      <td>NaN</td>\n",
       "      <td>1</td>\n",
       "    </tr>\n",
       "  </tbody>\n",
       "</table>\n",
       "</div>"
      ],
      "text/plain": [
       "   course_id  minutes_watched date_watched date_purchased student_country  \\\n",
       "0         23              0.3   2022-01-01            NaN              IN   \n",
       "1          2             12.9   2022-04-01     2022-01-01              CA   \n",
       "2          7             46.8   2022-01-03     2022-01-01              CA   \n",
       "3          7              4.3   2022-01-04     2022-01-01              CA   \n",
       "4          7             31.7   2022-01-07     2022-01-01              CA   \n",
       "\n",
       "  date_registered  course_rating date_rated  purchase  \n",
       "0      2022-01-01            NaN        NaN         0  \n",
       "1      2022-01-01            NaN        NaN         1  \n",
       "2      2022-01-01            NaN        NaN         1  \n",
       "3      2022-01-01            NaN        NaN         1  \n",
       "4      2022-01-01            NaN        NaN         1  "
      ]
     },
     "execution_count": 26,
     "metadata": {},
     "output_type": "execute_result"
    }
   ],
   "source": [
    "df=df.drop(['student_id','purchase_id'],axis=1)\n",
    "df.head()"
   ]
  },
  {
   "cell_type": "code",
   "execution_count": 27,
   "id": "dcd5114b",
   "metadata": {},
   "outputs": [
    {
     "data": {
      "text/plain": [
       "course_id              0\n",
       "minutes_watched        0\n",
       "date_watched           0\n",
       "date_purchased     27204\n",
       "student_country       44\n",
       "date_registered        0\n",
       "course_rating      71054\n",
       "date_rated         71054\n",
       "purchase               0\n",
       "dtype: int64"
      ]
     },
     "execution_count": 27,
     "metadata": {},
     "output_type": "execute_result"
    }
   ],
   "source": [
    "df.isna().sum() #to find total missing values column wise"
   ]
  },
  {
   "cell_type": "code",
   "execution_count": 28,
   "id": "b0ccfd43",
   "metadata": {},
   "outputs": [
    {
     "data": {
      "text/plain": [
       "course_id            int64\n",
       "minutes_watched    float64\n",
       "date_watched        object\n",
       "date_purchased      object\n",
       "student_country     object\n",
       "date_registered     object\n",
       "course_rating      float64\n",
       "date_rated          object\n",
       "purchase             int64\n",
       "dtype: object"
      ]
     },
     "execution_count": 28,
     "metadata": {},
     "output_type": "execute_result"
    }
   ],
   "source": [
    "df.dtypes"
   ]
  },
  {
   "cell_type": "code",
   "execution_count": 29,
   "id": "b176018b",
   "metadata": {},
   "outputs": [
    {
     "data": {
      "text/html": [
       "<div>\n",
       "<style scoped>\n",
       "    .dataframe tbody tr th:only-of-type {\n",
       "        vertical-align: middle;\n",
       "    }\n",
       "\n",
       "    .dataframe tbody tr th {\n",
       "        vertical-align: top;\n",
       "    }\n",
       "\n",
       "    .dataframe thead th {\n",
       "        text-align: right;\n",
       "    }\n",
       "</style>\n",
       "<table border=\"1\" class=\"dataframe\">\n",
       "  <thead>\n",
       "    <tr style=\"text-align: right;\">\n",
       "      <th></th>\n",
       "      <th>course_id</th>\n",
       "      <th>minutes_watched</th>\n",
       "      <th>date_watched</th>\n",
       "      <th>date_purchased</th>\n",
       "      <th>student_country</th>\n",
       "      <th>date_registered</th>\n",
       "      <th>course_rating</th>\n",
       "      <th>date_rated</th>\n",
       "      <th>purchase</th>\n",
       "    </tr>\n",
       "  </thead>\n",
       "  <tbody>\n",
       "    <tr>\n",
       "      <th>0</th>\n",
       "      <td>23</td>\n",
       "      <td>0.3</td>\n",
       "      <td>2022-01-01</td>\n",
       "      <td>2022-01-01</td>\n",
       "      <td>IN</td>\n",
       "      <td>2022-01-01</td>\n",
       "      <td>NaN</td>\n",
       "      <td>2022-01-01</td>\n",
       "      <td>0</td>\n",
       "    </tr>\n",
       "    <tr>\n",
       "      <th>1</th>\n",
       "      <td>2</td>\n",
       "      <td>12.9</td>\n",
       "      <td>2022-04-01</td>\n",
       "      <td>2022-01-01</td>\n",
       "      <td>CA</td>\n",
       "      <td>2022-01-01</td>\n",
       "      <td>NaN</td>\n",
       "      <td>2022-01-01</td>\n",
       "      <td>1</td>\n",
       "    </tr>\n",
       "    <tr>\n",
       "      <th>2</th>\n",
       "      <td>7</td>\n",
       "      <td>46.8</td>\n",
       "      <td>2022-01-03</td>\n",
       "      <td>2022-01-01</td>\n",
       "      <td>CA</td>\n",
       "      <td>2022-01-01</td>\n",
       "      <td>NaN</td>\n",
       "      <td>2022-01-01</td>\n",
       "      <td>1</td>\n",
       "    </tr>\n",
       "    <tr>\n",
       "      <th>3</th>\n",
       "      <td>7</td>\n",
       "      <td>4.3</td>\n",
       "      <td>2022-01-04</td>\n",
       "      <td>2022-01-01</td>\n",
       "      <td>CA</td>\n",
       "      <td>2022-01-01</td>\n",
       "      <td>NaN</td>\n",
       "      <td>2022-01-01</td>\n",
       "      <td>1</td>\n",
       "    </tr>\n",
       "    <tr>\n",
       "      <th>4</th>\n",
       "      <td>7</td>\n",
       "      <td>31.7</td>\n",
       "      <td>2022-01-07</td>\n",
       "      <td>2022-01-01</td>\n",
       "      <td>CA</td>\n",
       "      <td>2022-01-01</td>\n",
       "      <td>NaN</td>\n",
       "      <td>2022-01-01</td>\n",
       "      <td>1</td>\n",
       "    </tr>\n",
       "  </tbody>\n",
       "</table>\n",
       "</div>"
      ],
      "text/plain": [
       "   course_id  minutes_watched date_watched date_purchased student_country  \\\n",
       "0         23              0.3   2022-01-01     2022-01-01              IN   \n",
       "1          2             12.9   2022-04-01     2022-01-01              CA   \n",
       "2          7             46.8   2022-01-03     2022-01-01              CA   \n",
       "3          7              4.3   2022-01-04     2022-01-01              CA   \n",
       "4          7             31.7   2022-01-07     2022-01-01              CA   \n",
       "\n",
       "  date_registered  course_rating  date_rated  purchase  \n",
       "0      2022-01-01            NaN  2022-01-01         0  \n",
       "1      2022-01-01            NaN  2022-01-01         1  \n",
       "2      2022-01-01            NaN  2022-01-01         1  \n",
       "3      2022-01-01            NaN  2022-01-01         1  \n",
       "4      2022-01-01            NaN  2022-01-01         1  "
      ]
     },
     "execution_count": 29,
     "metadata": {},
     "output_type": "execute_result"
    }
   ],
   "source": [
    "df['date_purchased'].fillna(df['date_registered'], inplace=True)\n",
    "df['date_rated'].fillna(df['date_registered'], inplace=True)\n",
    "df.head()"
   ]
  },
  {
   "cell_type": "code",
   "execution_count": 30,
   "id": "ac9293e9",
   "metadata": {},
   "outputs": [],
   "source": [
    "X = df.drop(['purchase'], axis=1)\n",
    "y = df['purchase']\n",
    "y=y.astype('int')\n",
    "\n"
   ]
  },
  {
   "cell_type": "code",
   "execution_count": 31,
   "id": "bcb6e507",
   "metadata": {},
   "outputs": [
    {
     "data": {
      "text/plain": [
       "<AxesSubplot:>"
      ]
     },
     "execution_count": 31,
     "metadata": {},
     "output_type": "execute_result"
    },
    {
     "data": {
      "image/png": "[encoded data removed]",
      "text/plain": [
       "<Figure size 640x480 with 1 Axes>"
      ]
     },
     "metadata": {},
     "output_type": "display_data"
    }
   ],
   "source": [
    "y.value_counts().plot(kind='bar', color=['red', 'green'])"
   ]
  },
  {
   "cell_type": "code",
   "execution_count": 32,
   "id": "0059b068",
   "metadata": {},
   "outputs": [
    {
     "name": "stdout",
     "output_type": "stream",
     "text": [
      "X shape:  (87633, 8)\n",
      "y shape:  (87633,)\n"
     ]
    }
   ],
   "source": [
    "print(\"X shape: \", X.shape)\n",
    "print(\"y shape: \", y.shape)"
   ]
  },
  {
   "cell_type": "code",
   "execution_count": 33,
   "id": "acc9b598",
   "metadata": {},
   "outputs": [
    {
     "data": {
      "text/plain": [
       "<AxesSubplot:>"
      ]
     },
     "execution_count": 33,
     "metadata": {},
     "output_type": "execute_result"
    },
    {
     "data": {
      "image/png": "[encoded data removed]",
      "text/plain": [
       "<Figure size 640x480 with 1 Axes>"
      ]
     },
     "metadata": {},
     "output_type": "display_data"
    }
   ],
   "source": [
    "rsu = RandomUnderSampler()\n",
    "\n",
    "X_res, y_res = rsu.fit_resample(X, y)\n",
    "y_res.value_counts().plot(kind='bar', color=['red', 'green'])"
   ]
  },
  {
   "cell_type": "code",
   "execution_count": 34,
   "id": "bed8704d",
   "metadata": {},
   "outputs": [],
   "source": [
    "X_train, X_test, y_train, y_test = train_test_split(X, y, test_size=0.2, random_state=365, stratify=y)"
   ]
  },
  {
   "cell_type": "code",
   "execution_count": 35,
   "id": "956a0388",
   "metadata": {},
   "outputs": [
    {
     "name": "stdout",
     "output_type": "stream",
     "text": [
      "1    0.68957\n",
      "0    0.31043\n",
      "Name: purchase, dtype: float64 1    0.689565\n",
      "0    0.310435\n",
      "Name: purchase, dtype: float64\n",
      "1    0.689565\n",
      "0    0.310435\n",
      "Name: purchase, dtype: float64\n"
     ]
    }
   ],
   "source": [
    "print(y_train.value_counts(normalize=True), y_test.value_counts(normalize=True))\n",
    "print(y_test.value_counts(normalize=True))"
   ]
  },
  {
   "cell_type": "code",
   "execution_count": 36,
   "id": "e3745762",
   "metadata": {},
   "outputs": [
    {
     "name": "stdout",
     "output_type": "stream",
     "text": [
      "X_train shape:  (70106, 8)\n",
      "X_test shape:  (17527, 8)\n",
      "y_train shape:  (70106,)\n",
      "y_test shape:  (17527,)\n"
     ]
    }
   ],
   "source": [
    "print(\"X_train shape: \", X_train.shape)\n",
    "print(\"X_test shape: \", X_test.shape)\n",
    "print(\"y_train shape: \", y_train.shape)\n",
    "print(\"y_test shape: \", y_test.shape)"
   ]
  },
  {
   "cell_type": "code",
   "execution_count": 37,
   "id": "ebb3d161",
   "metadata": {},
   "outputs": [
    {
     "data": {
      "text/html": [
       "<div>\n",
       "<style scoped>\n",
       "    .dataframe tbody tr th:only-of-type {\n",
       "        vertical-align: middle;\n",
       "    }\n",
       "\n",
       "    .dataframe tbody tr th {\n",
       "        vertical-align: top;\n",
       "    }\n",
       "\n",
       "    .dataframe thead th {\n",
       "        text-align: right;\n",
       "    }\n",
       "</style>\n",
       "<table border=\"1\" class=\"dataframe\">\n",
       "  <thead>\n",
       "    <tr style=\"text-align: right;\">\n",
       "      <th></th>\n",
       "      <th>course_id</th>\n",
       "      <th>minutes_watched</th>\n",
       "      <th>date_watched</th>\n",
       "      <th>date_purchased</th>\n",
       "      <th>student_country</th>\n",
       "      <th>date_registered</th>\n",
       "      <th>course_rating</th>\n",
       "      <th>date_rated</th>\n",
       "    </tr>\n",
       "  </thead>\n",
       "  <tbody>\n",
       "    <tr>\n",
       "      <th>0</th>\n",
       "      <td>7</td>\n",
       "      <td>54.6</td>\n",
       "      <td>2022-01-14</td>\n",
       "      <td>2022-01-13</td>\n",
       "      <td>US</td>\n",
       "      <td>2022-01-13</td>\n",
       "      <td>5.0</td>\n",
       "      <td>2022-01-13</td>\n",
       "    </tr>\n",
       "    <tr>\n",
       "      <th>1</th>\n",
       "      <td>37</td>\n",
       "      <td>0.2</td>\n",
       "      <td>2022-04-15</td>\n",
       "      <td>2022-04-12</td>\n",
       "      <td>TN</td>\n",
       "      <td>2022-04-12</td>\n",
       "      <td>5.0</td>\n",
       "      <td>2022-04-12</td>\n",
       "    </tr>\n",
       "    <tr>\n",
       "      <th>2</th>\n",
       "      <td>53</td>\n",
       "      <td>35.5</td>\n",
       "      <td>2022-06-20</td>\n",
       "      <td>2022-06-08</td>\n",
       "      <td>AE</td>\n",
       "      <td>2022-06-08</td>\n",
       "      <td>5.0</td>\n",
       "      <td>2022-06-21</td>\n",
       "    </tr>\n",
       "    <tr>\n",
       "      <th>3</th>\n",
       "      <td>7</td>\n",
       "      <td>6.9</td>\n",
       "      <td>2022-02-08</td>\n",
       "      <td>2022-01-19</td>\n",
       "      <td>US</td>\n",
       "      <td>2022-01-19</td>\n",
       "      <td>5.0</td>\n",
       "      <td>2022-01-19</td>\n",
       "    </tr>\n",
       "    <tr>\n",
       "      <th>4</th>\n",
       "      <td>30</td>\n",
       "      <td>0.3</td>\n",
       "      <td>2022-04-19</td>\n",
       "      <td>2022-04-19</td>\n",
       "      <td>MA</td>\n",
       "      <td>2022-04-19</td>\n",
       "      <td>5.0</td>\n",
       "      <td>2022-04-19</td>\n",
       "    </tr>\n",
       "  </tbody>\n",
       "</table>\n",
       "</div>"
      ],
      "text/plain": [
       "  course_id minutes_watched date_watched date_purchased student_country  \\\n",
       "0         7            54.6   2022-01-14     2022-01-13              US   \n",
       "1        37             0.2   2022-04-15     2022-04-12              TN   \n",
       "2        53            35.5   2022-06-20     2022-06-08              AE   \n",
       "3         7             6.9   2022-02-08     2022-01-19              US   \n",
       "4        30             0.3   2022-04-19     2022-04-19              MA   \n",
       "\n",
       "  date_registered course_rating  date_rated  \n",
       "0      2022-01-13           5.0  2022-01-13  \n",
       "1      2022-04-12           5.0  2022-04-12  \n",
       "2      2022-06-08           5.0  2022-06-21  \n",
       "3      2022-01-19           5.0  2022-01-19  \n",
       "4      2022-04-19           5.0  2022-04-19  "
      ]
     },
     "execution_count": 37,
     "metadata": {},
     "output_type": "execute_result"
    }
   ],
   "source": [
    "imputer = SimpleImputer(missing_values=np.nan, strategy='most_frequent')\n",
    "fit = imputer.fit_transform(X_train)\n",
    "X_train = pd.DataFrame(data = fit, columns=imputer.feature_names_in_)\n",
    "X_test  = pd.DataFrame(data = imputer.transform(X_test), columns=imputer.feature_names_in_)\n",
    "\n",
    "X_train.head()"
   ]
  },
  {
   "cell_type": "code",
   "execution_count": 38,
   "id": "208740aa",
   "metadata": {},
   "outputs": [
    {
     "data": {
      "text/plain": [
       "course_id          0\n",
       "minutes_watched    0\n",
       "date_watched       0\n",
       "date_purchased     0\n",
       "student_country    0\n",
       "date_registered    0\n",
       "course_rating      0\n",
       "date_rated         0\n",
       "dtype: int64"
      ]
     },
     "execution_count": 38,
     "metadata": {},
     "output_type": "execute_result"
    }
   ],
   "source": [
    "X_train.isna().sum()"
   ]
  },
  {
   "cell_type": "code",
   "execution_count": 39,
   "id": "e484ea99",
   "metadata": {},
   "outputs": [],
   "source": [
    "#converting some columns to date-time"
   ]
  },
  {
   "cell_type": "code",
   "execution_count": 40,
   "id": "d5da5256",
   "metadata": {},
   "outputs": [],
   "source": [
    "columns= ['date_registered','date_watched','date_rated']\n",
    "for i in columns:\n",
    "    X_train[i]=pd.to_datetime(X_train[i])\n",
    "    X_test[i] = pd.to_datetime(X_test[i])"
   ]
  },
  {
   "cell_type": "code",
   "execution_count": 41,
   "id": "e2b20d79",
   "metadata": {},
   "outputs": [
    {
     "data": {
      "text/plain": [
       "course_id          0\n",
       "minutes_watched    0\n",
       "date_watched       0\n",
       "date_purchased     0\n",
       "student_country    0\n",
       "date_registered    0\n",
       "course_rating      0\n",
       "date_rated         0\n",
       "dtype: int64"
      ]
     },
     "execution_count": 41,
     "metadata": {},
     "output_type": "execute_result"
    }
   ],
   "source": [
    "X_train.isna().sum()"
   ]
  },
  {
   "cell_type": "code",
   "execution_count": 42,
   "id": "0d81bd34",
   "metadata": {},
   "outputs": [],
   "source": [
    "#finding differences between the dates"
   ]
  },
  {
   "cell_type": "code",
   "execution_count": 44,
   "id": "e70230e1",
   "metadata": {},
   "outputs": [],
   "source": [
    "#registered vs watched\n",
    "X_train['regVsWatch'] = X_train['date_watched']-X_train['date_registered']\n",
    "X_test['regVsWatch'] = X_test['date_watched']-X_train['date_registered']\n",
    "\n",
    "#watched vs rated\n",
    "X_train['watchVsRate'] = X_train['date_rated']-X_train['date_watched']\n",
    "X_test['watchVsRate'] = X_train['date_rated'] - X_train['date_watched']\n"
   ]
  },
  {
   "cell_type": "code",
   "execution_count": 45,
   "id": "7ab85f61",
   "metadata": {},
   "outputs": [
    {
     "data": {
      "text/html": [
       "<div>\n",
       "<style scoped>\n",
       "    .dataframe tbody tr th:only-of-type {\n",
       "        vertical-align: middle;\n",
       "    }\n",
       "\n",
       "    .dataframe tbody tr th {\n",
       "        vertical-align: top;\n",
       "    }\n",
       "\n",
       "    .dataframe thead th {\n",
       "        text-align: right;\n",
       "    }\n",
       "</style>\n",
       "<table border=\"1\" class=\"dataframe\">\n",
       "  <thead>\n",
       "    <tr style=\"text-align: right;\">\n",
       "      <th></th>\n",
       "      <th>course_id</th>\n",
       "      <th>minutes_watched</th>\n",
       "      <th>date_watched</th>\n",
       "      <th>date_purchased</th>\n",
       "      <th>student_country</th>\n",
       "      <th>date_registered</th>\n",
       "      <th>course_rating</th>\n",
       "      <th>date_rated</th>\n",
       "      <th>regVsWatch</th>\n",
       "      <th>watchVsRate</th>\n",
       "    </tr>\n",
       "  </thead>\n",
       "  <tbody>\n",
       "    <tr>\n",
       "      <th>0</th>\n",
       "      <td>7</td>\n",
       "      <td>54.6</td>\n",
       "      <td>2022-01-14</td>\n",
       "      <td>2022-01-13</td>\n",
       "      <td>US</td>\n",
       "      <td>2022-01-13</td>\n",
       "      <td>5.0</td>\n",
       "      <td>2022-01-13</td>\n",
       "      <td>1 days</td>\n",
       "      <td>-1 days</td>\n",
       "    </tr>\n",
       "    <tr>\n",
       "      <th>1</th>\n",
       "      <td>37</td>\n",
       "      <td>0.2</td>\n",
       "      <td>2022-04-15</td>\n",
       "      <td>2022-04-12</td>\n",
       "      <td>TN</td>\n",
       "      <td>2022-04-12</td>\n",
       "      <td>5.0</td>\n",
       "      <td>2022-04-12</td>\n",
       "      <td>3 days</td>\n",
       "      <td>-3 days</td>\n",
       "    </tr>\n",
       "    <tr>\n",
       "      <th>2</th>\n",
       "      <td>53</td>\n",
       "      <td>35.5</td>\n",
       "      <td>2022-06-20</td>\n",
       "      <td>2022-06-08</td>\n",
       "      <td>AE</td>\n",
       "      <td>2022-06-08</td>\n",
       "      <td>5.0</td>\n",
       "      <td>2022-06-21</td>\n",
       "      <td>12 days</td>\n",
       "      <td>1 days</td>\n",
       "    </tr>\n",
       "    <tr>\n",
       "      <th>3</th>\n",
       "      <td>7</td>\n",
       "      <td>6.9</td>\n",
       "      <td>2022-02-08</td>\n",
       "      <td>2022-01-19</td>\n",
       "      <td>US</td>\n",
       "      <td>2022-01-19</td>\n",
       "      <td>5.0</td>\n",
       "      <td>2022-01-19</td>\n",
       "      <td>20 days</td>\n",
       "      <td>-20 days</td>\n",
       "    </tr>\n",
       "    <tr>\n",
       "      <th>4</th>\n",
       "      <td>30</td>\n",
       "      <td>0.3</td>\n",
       "      <td>2022-04-19</td>\n",
       "      <td>2022-04-19</td>\n",
       "      <td>MA</td>\n",
       "      <td>2022-04-19</td>\n",
       "      <td>5.0</td>\n",
       "      <td>2022-04-19</td>\n",
       "      <td>0 days</td>\n",
       "      <td>0 days</td>\n",
       "    </tr>\n",
       "  </tbody>\n",
       "</table>\n",
       "</div>"
      ],
      "text/plain": [
       "  course_id minutes_watched date_watched date_purchased student_country  \\\n",
       "0         7            54.6   2022-01-14     2022-01-13              US   \n",
       "1        37             0.2   2022-04-15     2022-04-12              TN   \n",
       "2        53            35.5   2022-06-20     2022-06-08              AE   \n",
       "3         7             6.9   2022-02-08     2022-01-19              US   \n",
       "4        30             0.3   2022-04-19     2022-04-19              MA   \n",
       "\n",
       "  date_registered course_rating date_rated regVsWatch watchVsRate  \n",
       "0      2022-01-13           5.0 2022-01-13     1 days     -1 days  \n",
       "1      2022-04-12           5.0 2022-04-12     3 days     -3 days  \n",
       "2      2022-06-08           5.0 2022-06-21    12 days      1 days  \n",
       "3      2022-01-19           5.0 2022-01-19    20 days    -20 days  \n",
       "4      2022-04-19           5.0 2022-04-19     0 days      0 days  "
      ]
     },
     "execution_count": 45,
     "metadata": {},
     "output_type": "execute_result"
    }
   ],
   "source": [
    "X_train.head()"
   ]
  },
  {
   "cell_type": "code",
   "execution_count": 46,
   "id": "61a81972",
   "metadata": {},
   "outputs": [
    {
     "data": {
      "text/plain": [
       "course_id          0\n",
       "minutes_watched    0\n",
       "date_watched       0\n",
       "date_purchased     0\n",
       "student_country    0\n",
       "date_registered    0\n",
       "course_rating      0\n",
       "date_rated         0\n",
       "regVsWatch         0\n",
       "watchVsRate        0\n",
       "dtype: int64"
      ]
     },
     "execution_count": 46,
     "metadata": {},
     "output_type": "execute_result"
    }
   ],
   "source": [
    "X_train.isnull().sum()"
   ]
  },
  {
   "cell_type": "code",
   "execution_count": 47,
   "id": "2bc4e77b",
   "metadata": {},
   "outputs": [
    {
     "data": {
      "text/html": [
       "<div>\n",
       "<style scoped>\n",
       "    .dataframe tbody tr th:only-of-type {\n",
       "        vertical-align: middle;\n",
       "    }\n",
       "\n",
       "    .dataframe tbody tr th {\n",
       "        vertical-align: top;\n",
       "    }\n",
       "\n",
       "    .dataframe thead th {\n",
       "        text-align: right;\n",
       "    }\n",
       "</style>\n",
       "<table border=\"1\" class=\"dataframe\">\n",
       "  <thead>\n",
       "    <tr style=\"text-align: right;\">\n",
       "      <th></th>\n",
       "      <th>course_id</th>\n",
       "      <th>minutes_watched</th>\n",
       "      <th>student_country</th>\n",
       "      <th>course_rating</th>\n",
       "      <th>regVsWatch</th>\n",
       "      <th>watchVsRate</th>\n",
       "    </tr>\n",
       "  </thead>\n",
       "  <tbody>\n",
       "    <tr>\n",
       "      <th>0</th>\n",
       "      <td>7</td>\n",
       "      <td>54.6</td>\n",
       "      <td>US</td>\n",
       "      <td>5.0</td>\n",
       "      <td>1 days</td>\n",
       "      <td>-1 days</td>\n",
       "    </tr>\n",
       "    <tr>\n",
       "      <th>1</th>\n",
       "      <td>37</td>\n",
       "      <td>0.2</td>\n",
       "      <td>TN</td>\n",
       "      <td>5.0</td>\n",
       "      <td>3 days</td>\n",
       "      <td>-3 days</td>\n",
       "    </tr>\n",
       "    <tr>\n",
       "      <th>2</th>\n",
       "      <td>53</td>\n",
       "      <td>35.5</td>\n",
       "      <td>AE</td>\n",
       "      <td>5.0</td>\n",
       "      <td>12 days</td>\n",
       "      <td>1 days</td>\n",
       "    </tr>\n",
       "    <tr>\n",
       "      <th>3</th>\n",
       "      <td>7</td>\n",
       "      <td>6.9</td>\n",
       "      <td>US</td>\n",
       "      <td>5.0</td>\n",
       "      <td>20 days</td>\n",
       "      <td>-20 days</td>\n",
       "    </tr>\n",
       "    <tr>\n",
       "      <th>4</th>\n",
       "      <td>30</td>\n",
       "      <td>0.3</td>\n",
       "      <td>MA</td>\n",
       "      <td>5.0</td>\n",
       "      <td>0 days</td>\n",
       "      <td>0 days</td>\n",
       "    </tr>\n",
       "  </tbody>\n",
       "</table>\n",
       "</div>"
      ],
      "text/plain": [
       "  course_id minutes_watched student_country course_rating regVsWatch  \\\n",
       "0         7            54.6              US           5.0     1 days   \n",
       "1        37             0.2              TN           5.0     3 days   \n",
       "2        53            35.5              AE           5.0    12 days   \n",
       "3         7             6.9              US           5.0    20 days   \n",
       "4        30             0.3              MA           5.0     0 days   \n",
       "\n",
       "  watchVsRate  \n",
       "0     -1 days  \n",
       "1     -3 days  \n",
       "2      1 days  \n",
       "3    -20 days  \n",
       "4      0 days  "
      ]
     },
     "execution_count": 47,
     "metadata": {},
     "output_type": "execute_result"
    }
   ],
   "source": [
    "X_train=X_train.drop(['date_watched','date_purchased','date_rated','date_registered'],axis=1)\n",
    "X_test=X_test.drop(['date_watched','date_purchased','date_rated','date_registered'],axis=1)\n",
    "\n",
    "X_train.head()\n",
    "\n"
   ]
  },
  {
   "cell_type": "code",
   "execution_count": 54,
   "id": "b46e694a",
   "metadata": {},
   "outputs": [],
   "source": [
    "encoder  = OrdinalEncoder(handle_unknown='use_encoded_value', unknown_value=-1)\n",
    "\n",
    "label = ['student_country']\n",
    "\n",
    "X_train[label] = encoder.fit_transform(X_train[label])\n",
    "\n",
    "X_test[label] = encoder.transform(X_test[label])"
   ]
  },
  {
   "cell_type": "code",
   "execution_count": 55,
   "id": "cba94d6a",
   "metadata": {},
   "outputs": [
    {
     "data": {
      "text/html": [
       "<div>\n",
       "<style scoped>\n",
       "    .dataframe tbody tr th:only-of-type {\n",
       "        vertical-align: middle;\n",
       "    }\n",
       "\n",
       "    .dataframe tbody tr th {\n",
       "        vertical-align: top;\n",
       "    }\n",
       "\n",
       "    .dataframe thead th {\n",
       "        text-align: right;\n",
       "    }\n",
       "</style>\n",
       "<table border=\"1\" class=\"dataframe\">\n",
       "  <thead>\n",
       "    <tr style=\"text-align: right;\">\n",
       "      <th></th>\n",
       "      <th>course_id</th>\n",
       "      <th>minutes_watched</th>\n",
       "      <th>student_country</th>\n",
       "      <th>course_rating</th>\n",
       "      <th>regVsWatch</th>\n",
       "      <th>watchVsRate</th>\n",
       "    </tr>\n",
       "  </thead>\n",
       "  <tbody>\n",
       "    <tr>\n",
       "      <th>0</th>\n",
       "      <td>7</td>\n",
       "      <td>54.6</td>\n",
       "      <td>157.0</td>\n",
       "      <td>5.0</td>\n",
       "      <td>1 days</td>\n",
       "      <td>-1 days</td>\n",
       "    </tr>\n",
       "    <tr>\n",
       "      <th>1</th>\n",
       "      <td>37</td>\n",
       "      <td>0.2</td>\n",
       "      <td>150.0</td>\n",
       "      <td>5.0</td>\n",
       "      <td>3 days</td>\n",
       "      <td>-3 days</td>\n",
       "    </tr>\n",
       "    <tr>\n",
       "      <th>2</th>\n",
       "      <td>53</td>\n",
       "      <td>35.5</td>\n",
       "      <td>1.0</td>\n",
       "      <td>5.0</td>\n",
       "      <td>12 days</td>\n",
       "      <td>1 days</td>\n",
       "    </tr>\n",
       "    <tr>\n",
       "      <th>3</th>\n",
       "      <td>7</td>\n",
       "      <td>6.9</td>\n",
       "      <td>157.0</td>\n",
       "      <td>5.0</td>\n",
       "      <td>20 days</td>\n",
       "      <td>-20 days</td>\n",
       "    </tr>\n",
       "    <tr>\n",
       "      <th>4</th>\n",
       "      <td>30</td>\n",
       "      <td>0.3</td>\n",
       "      <td>94.0</td>\n",
       "      <td>5.0</td>\n",
       "      <td>0 days</td>\n",
       "      <td>0 days</td>\n",
       "    </tr>\n",
       "  </tbody>\n",
       "</table>\n",
       "</div>"
      ],
      "text/plain": [
       "  course_id minutes_watched  student_country course_rating regVsWatch  \\\n",
       "0         7            54.6            157.0           5.0     1 days   \n",
       "1        37             0.2            150.0           5.0     3 days   \n",
       "2        53            35.5              1.0           5.0    12 days   \n",
       "3         7             6.9            157.0           5.0    20 days   \n",
       "4        30             0.3             94.0           5.0     0 days   \n",
       "\n",
       "  watchVsRate  \n",
       "0     -1 days  \n",
       "1     -3 days  \n",
       "2      1 days  \n",
       "3    -20 days  \n",
       "4      0 days  "
      ]
     },
     "execution_count": 55,
     "metadata": {},
     "output_type": "execute_result"
    }
   ],
   "source": [
    "X_train.head()"
   ]
  },
  {
   "cell_type": "code",
   "execution_count": 57,
   "id": "30935f05",
   "metadata": {},
   "outputs": [],
   "source": [
    "X_train = X_train.astype({'course_id': 'int64','minutes_watched': 'int64', 'course_rating': 'int64', 'regVsWatch': 'str', 'watchVsRate':'str', 'student_country': 'int64'})\n",
    "X_test  = X_test.astype({'course_id': 'int64','minutes_watched': 'int64', 'course_rating': 'int64', 'regVsWatch': 'str', 'watchVsRate':'str', 'student_country': 'int64'}) \n",
    "\n",
    "\n",
    "X_train['regVsWatch'] = np.abs((X_train['regVsWatch'].apply(lambda x : x.split(' ')[0])).astype('int64'))\n",
    "X_test['regVsWatch'] = np.abs((X_test['regVsWatch'].apply(lambda x : x.split(' ')[0])).astype('int64'))\n",
    "\n",
    "X_train['watchVsRate'] = np.abs((X_train['watchVsRate'].apply(lambda x : x.split(' ')[0])).astype('int64'))\n",
    "X_test['watchVsRate'] = np.abs((X_test['watchVsRate'].apply(lambda x : x.split(' ')[0])).astype('int64'))"
   ]
  },
  {
   "cell_type": "code",
   "execution_count": 58,
   "id": "337897e7",
   "metadata": {},
   "outputs": [
    {
     "data": {
      "text/html": [
       "<div>\n",
       "<style scoped>\n",
       "    .dataframe tbody tr th:only-of-type {\n",
       "        vertical-align: middle;\n",
       "    }\n",
       "\n",
       "    .dataframe tbody tr th {\n",
       "        vertical-align: top;\n",
       "    }\n",
       "\n",
       "    .dataframe thead th {\n",
       "        text-align: right;\n",
       "    }\n",
       "</style>\n",
       "<table border=\"1\" class=\"dataframe\">\n",
       "  <thead>\n",
       "    <tr style=\"text-align: right;\">\n",
       "      <th></th>\n",
       "      <th>course_id</th>\n",
       "      <th>minutes_watched</th>\n",
       "      <th>student_country</th>\n",
       "      <th>course_rating</th>\n",
       "      <th>regVsWatch</th>\n",
       "      <th>watchVsRate</th>\n",
       "    </tr>\n",
       "  </thead>\n",
       "  <tbody>\n",
       "    <tr>\n",
       "      <th>0</th>\n",
       "      <td>7</td>\n",
       "      <td>54</td>\n",
       "      <td>157</td>\n",
       "      <td>5</td>\n",
       "      <td>1</td>\n",
       "      <td>1</td>\n",
       "    </tr>\n",
       "    <tr>\n",
       "      <th>1</th>\n",
       "      <td>37</td>\n",
       "      <td>0</td>\n",
       "      <td>150</td>\n",
       "      <td>5</td>\n",
       "      <td>3</td>\n",
       "      <td>3</td>\n",
       "    </tr>\n",
       "    <tr>\n",
       "      <th>2</th>\n",
       "      <td>53</td>\n",
       "      <td>35</td>\n",
       "      <td>1</td>\n",
       "      <td>5</td>\n",
       "      <td>12</td>\n",
       "      <td>1</td>\n",
       "    </tr>\n",
       "    <tr>\n",
       "      <th>3</th>\n",
       "      <td>7</td>\n",
       "      <td>6</td>\n",
       "      <td>157</td>\n",
       "      <td>5</td>\n",
       "      <td>20</td>\n",
       "      <td>20</td>\n",
       "    </tr>\n",
       "    <tr>\n",
       "      <th>4</th>\n",
       "      <td>30</td>\n",
       "      <td>0</td>\n",
       "      <td>94</td>\n",
       "      <td>5</td>\n",
       "      <td>0</td>\n",
       "      <td>0</td>\n",
       "    </tr>\n",
       "  </tbody>\n",
       "</table>\n",
       "</div>"
      ],
      "text/plain": [
       "   course_id  minutes_watched  student_country  course_rating  regVsWatch  \\\n",
       "0          7               54              157              5           1   \n",
       "1         37                0              150              5           3   \n",
       "2         53               35                1              5          12   \n",
       "3          7                6              157              5          20   \n",
       "4         30                0               94              5           0   \n",
       "\n",
       "   watchVsRate  \n",
       "0            1  \n",
       "1            3  \n",
       "2            1  \n",
       "3           20  \n",
       "4            0  "
      ]
     },
     "execution_count": 58,
     "metadata": {},
     "output_type": "execute_result"
    }
   ],
   "source": [
    "X_train.head()"
   ]
  },
  {
   "cell_type": "code",
   "execution_count": null,
   "id": "0e45bf47",
   "metadata": {},
   "outputs": [],
   "source": [
    "#one hot encoding\n"
   ]
  },
  {
   "cell_type": "code",
   "execution_count": null,
   "id": "0b6c210f",
   "metadata": {},
   "outputs": [],
   "source": [
    "#course_id_onehot=pd.get_dummies(X_train['course_id'],prefix='course_id')"
   ]
  },
  {
   "cell_type": "code",
   "execution_count": null,
   "id": "1d41be69",
   "metadata": {},
   "outputs": [],
   "source": [
    "#X_train_len=X_train.shape[0]\n",
    "#X_concat=pd.concat([X_train,X_test],ignore_index = True, sort = False)\n",
    "\n",
    "#course_id_onehot=pd.get_dummies(X_concat['course_id'],prefix='course_id')\n",
    "#X_concat = X_concat.join(course_id_onehot)\n",
    "#student_country_onehot=pd.get_dummies(X_concat['student_country'],prefix='student_country')\n",
    "#X_concat = X_concat.join(student_country_onehot)\n",
    "\n",
    "#X_concat = X_concat.drop(['course_id','student_country'],axis=1)\n",
    "\n",
    "#X_concat.head()"
   ]
  },
  {
   "cell_type": "code",
   "execution_count": null,
   "id": "63a9ee95",
   "metadata": {},
   "outputs": [],
   "source": [
    "#X_train = X_concat[:X_train_len]\n",
    "#X_test = X_concat[X_train_len:]"
   ]
  },
  {
   "cell_type": "code",
   "execution_count": null,
   "id": "62e35186",
   "metadata": {},
   "outputs": [],
   "source": [
    "#X_train.columns\n"
   ]
  },
  {
   "cell_type": "code",
   "execution_count": null,
   "id": "b4a9972d",
   "metadata": {},
   "outputs": [],
   "source": [
    "#drop columns not required"
   ]
  },
  {
   "cell_type": "code",
   "execution_count": null,
   "id": "d55ddc80",
   "metadata": {},
   "outputs": [],
   "source": [
    "#X_train.drop(columns=['date_registered', 'date_rated', 'date_watched'], inplace=True)\n",
    "#X_test.drop(columns=['date_registered', 'date_rated', 'date_watched'], inplace=True)"
   ]
  },
  {
   "cell_type": "code",
   "execution_count": 59,
   "id": "945deb07",
   "metadata": {},
   "outputs": [
    {
     "data": {
      "text/plain": [
       "course_id          int64\n",
       "minutes_watched    int64\n",
       "student_country    int64\n",
       "course_rating      int64\n",
       "regVsWatch         int64\n",
       "watchVsRate        int64\n",
       "dtype: object"
      ]
     },
     "execution_count": 59,
     "metadata": {},
     "output_type": "execute_result"
    }
   ],
   "source": [
    "X_train.dtypes"
   ]
  },
  {
   "cell_type": "code",
   "execution_count": 60,
   "id": "f5f037af",
   "metadata": {},
   "outputs": [],
   "source": [
    "#feature scaling"
   ]
  },
  {
   "cell_type": "code",
   "execution_count": 62,
   "id": "f9481ef1",
   "metadata": {},
   "outputs": [],
   "source": [
    "scaler = MinMaxScaler()\n",
    "X_train_scale=scaler.fit_transform(X_train)\n",
    "X_test_scale=scaler.transform(X_test)\n",
    "X_train_scale = pd.DataFrame(X_train_scale, columns=scaler.feature_names_in_)\n",
    "X_test_scale = pd.DataFrame(X_test_scale, columns=scaler.feature_names_in_)"
   ]
  },
  {
   "cell_type": "code",
   "execution_count": 63,
   "id": "032795b1",
   "metadata": {},
   "outputs": [
    {
     "data": {
      "text/html": [
       "<div>\n",
       "<style scoped>\n",
       "    .dataframe tbody tr th:only-of-type {\n",
       "        vertical-align: middle;\n",
       "    }\n",
       "\n",
       "    .dataframe tbody tr th {\n",
       "        vertical-align: top;\n",
       "    }\n",
       "\n",
       "    .dataframe thead th {\n",
       "        text-align: right;\n",
       "    }\n",
       "</style>\n",
       "<table border=\"1\" class=\"dataframe\">\n",
       "  <thead>\n",
       "    <tr style=\"text-align: right;\">\n",
       "      <th></th>\n",
       "      <th>course_id</th>\n",
       "      <th>minutes_watched</th>\n",
       "      <th>student_country</th>\n",
       "      <th>course_rating</th>\n",
       "      <th>regVsWatch</th>\n",
       "      <th>watchVsRate</th>\n",
       "    </tr>\n",
       "  </thead>\n",
       "  <tbody>\n",
       "    <tr>\n",
       "      <th>0</th>\n",
       "      <td>0.076923</td>\n",
       "      <td>0.034951</td>\n",
       "      <td>0.940120</td>\n",
       "      <td>1.0</td>\n",
       "      <td>0.003436</td>\n",
       "      <td>0.003436</td>\n",
       "    </tr>\n",
       "    <tr>\n",
       "      <th>1</th>\n",
       "      <td>0.538462</td>\n",
       "      <td>0.000000</td>\n",
       "      <td>0.898204</td>\n",
       "      <td>1.0</td>\n",
       "      <td>0.010309</td>\n",
       "      <td>0.010309</td>\n",
       "    </tr>\n",
       "    <tr>\n",
       "      <th>2</th>\n",
       "      <td>0.784615</td>\n",
       "      <td>0.022654</td>\n",
       "      <td>0.005988</td>\n",
       "      <td>1.0</td>\n",
       "      <td>0.041237</td>\n",
       "      <td>0.003436</td>\n",
       "    </tr>\n",
       "    <tr>\n",
       "      <th>3</th>\n",
       "      <td>0.076923</td>\n",
       "      <td>0.003883</td>\n",
       "      <td>0.940120</td>\n",
       "      <td>1.0</td>\n",
       "      <td>0.068729</td>\n",
       "      <td>0.068729</td>\n",
       "    </tr>\n",
       "    <tr>\n",
       "      <th>4</th>\n",
       "      <td>0.430769</td>\n",
       "      <td>0.000000</td>\n",
       "      <td>0.562874</td>\n",
       "      <td>1.0</td>\n",
       "      <td>0.000000</td>\n",
       "      <td>0.000000</td>\n",
       "    </tr>\n",
       "  </tbody>\n",
       "</table>\n",
       "</div>"
      ],
      "text/plain": [
       "   course_id  minutes_watched  student_country  course_rating  regVsWatch  \\\n",
       "0   0.076923         0.034951         0.940120            1.0    0.003436   \n",
       "1   0.538462         0.000000         0.898204            1.0    0.010309   \n",
       "2   0.784615         0.022654         0.005988            1.0    0.041237   \n",
       "3   0.076923         0.003883         0.940120            1.0    0.068729   \n",
       "4   0.430769         0.000000         0.562874            1.0    0.000000   \n",
       "\n",
       "   watchVsRate  \n",
       "0     0.003436  \n",
       "1     0.010309  \n",
       "2     0.003436  \n",
       "3     0.068729  \n",
       "4     0.000000  "
      ]
     },
     "execution_count": 63,
     "metadata": {},
     "output_type": "execute_result"
    }
   ],
   "source": [
    "X_train_scale.head()"
   ]
  },
  {
   "cell_type": "code",
   "execution_count": 65,
   "id": "d0b7c655",
   "metadata": {},
   "outputs": [
    {
     "data": {
      "text/html": [
       "<div>\n",
       "<style scoped>\n",
       "    .dataframe tbody tr th:only-of-type {\n",
       "        vertical-align: middle;\n",
       "    }\n",
       "\n",
       "    .dataframe tbody tr th {\n",
       "        vertical-align: top;\n",
       "    }\n",
       "\n",
       "    .dataframe thead th {\n",
       "        text-align: right;\n",
       "    }\n",
       "</style>\n",
       "<table border=\"1\" class=\"dataframe\">\n",
       "  <thead>\n",
       "    <tr style=\"text-align: right;\">\n",
       "      <th></th>\n",
       "      <th>course_id</th>\n",
       "      <th>minutes_watched</th>\n",
       "      <th>student_country</th>\n",
       "      <th>course_rating</th>\n",
       "      <th>regVsWatch</th>\n",
       "      <th>watchVsRate</th>\n",
       "    </tr>\n",
       "  </thead>\n",
       "  <tbody>\n",
       "    <tr>\n",
       "      <th>0</th>\n",
       "      <td>0.076923</td>\n",
       "      <td>0.010356</td>\n",
       "      <td>-0.005988</td>\n",
       "      <td>1.0</td>\n",
       "      <td>0.924399</td>\n",
       "      <td>0.003436</td>\n",
       "    </tr>\n",
       "    <tr>\n",
       "      <th>1</th>\n",
       "      <td>0.076923</td>\n",
       "      <td>0.002589</td>\n",
       "      <td>-0.005988</td>\n",
       "      <td>1.0</td>\n",
       "      <td>0.302405</td>\n",
       "      <td>0.010309</td>\n",
       "    </tr>\n",
       "    <tr>\n",
       "      <th>2</th>\n",
       "      <td>0.292308</td>\n",
       "      <td>0.010356</td>\n",
       "      <td>-0.005988</td>\n",
       "      <td>1.0</td>\n",
       "      <td>0.030928</td>\n",
       "      <td>0.003436</td>\n",
       "    </tr>\n",
       "    <tr>\n",
       "      <th>3</th>\n",
       "      <td>0.184615</td>\n",
       "      <td>0.005825</td>\n",
       "      <td>-0.005988</td>\n",
       "      <td>1.0</td>\n",
       "      <td>0.024055</td>\n",
       "      <td>0.068729</td>\n",
       "    </tr>\n",
       "    <tr>\n",
       "      <th>4</th>\n",
       "      <td>0.184615</td>\n",
       "      <td>0.037540</td>\n",
       "      <td>-0.005988</td>\n",
       "      <td>1.0</td>\n",
       "      <td>0.068729</td>\n",
       "      <td>0.000000</td>\n",
       "    </tr>\n",
       "  </tbody>\n",
       "</table>\n",
       "</div>"
      ],
      "text/plain": [
       "   course_id  minutes_watched  student_country  course_rating  regVsWatch  \\\n",
       "0   0.076923         0.010356        -0.005988            1.0    0.924399   \n",
       "1   0.076923         0.002589        -0.005988            1.0    0.302405   \n",
       "2   0.292308         0.010356        -0.005988            1.0    0.030928   \n",
       "3   0.184615         0.005825        -0.005988            1.0    0.024055   \n",
       "4   0.184615         0.037540        -0.005988            1.0    0.068729   \n",
       "\n",
       "   watchVsRate  \n",
       "0     0.003436  \n",
       "1     0.010309  \n",
       "2     0.003436  \n",
       "3     0.068729  \n",
       "4     0.000000  "
      ]
     },
     "execution_count": 65,
     "metadata": {},
     "output_type": "execute_result"
    }
   ],
   "source": [
    "X_test_scale.head()"
   ]
  },
  {
   "cell_type": "code",
   "execution_count": 66,
   "id": "a89b9f9d",
   "metadata": {},
   "outputs": [],
   "source": [
    "#building a model"
   ]
  },
  {
   "cell_type": "code",
   "execution_count": 68,
   "id": "6838149b",
   "metadata": {},
   "outputs": [
    {
     "data": {
      "text/html": [
       "<style>#sk-container-id-1 {color: black;background-color: white;}#sk-container-id-1 pre{padding: 0;}#sk-container-id-1 div.sk-toggleable {background-color: white;}#sk-container-id-1 label.sk-toggleable__label {cursor: pointer;display: block;width: 100%;margin-bottom: 0;padding: 0.3em;box-sizing: border-box;text-align: center;}#sk-container-id-1 label.sk-toggleable__label-arrow:before {content: \"▸\";float: left;margin-right: 0.25em;color: #696969;}#sk-container-id-1 label.sk-toggleable__label-arrow:hover:before {color: black;}#sk-container-id-1 div.sk-estimator:hover label.sk-toggleable__label-arrow:before {color: black;}#sk-container-id-1 div.sk-toggleable__content {max-height: 0;max-width: 0;overflow: hidden;text-align: left;background-color: #f0f8ff;}#sk-container-id-1 div.sk-toggleable__content pre {margin: 0.2em;color: black;border-radius: 0.25em;background-color: #f0f8ff;}#sk-container-id-1 input.sk-toggleable__control:checked~div.sk-toggleable__content {max-height: 200px;max-width: 100%;overflow: auto;}#sk-container-id-1 input.sk-toggleable__control:checked~label.sk-toggleable__label-arrow:before {content: \"▾\";}#sk-container-id-1 div.sk-estimator input.sk-toggleable__control:checked~label.sk-toggleable__label {background-color: #d4ebff;}#sk-container-id-1 div.sk-label input.sk-toggleable__control:checked~label.sk-toggleable__label {background-color: #d4ebff;}#sk-container-id-1 input.sk-hidden--visually {border: 0;clip: rect(1px 1px 1px 1px);clip: rect(1px, 1px, 1px, 1px);height: 1px;margin: -1px;overflow: hidden;padding: 0;position: absolute;width: 1px;}#sk-container-id-1 div.sk-estimator {font-family: monospace;background-color: #f0f8ff;border: 1px dotted black;border-radius: 0.25em;box-sizing: border-box;margin-bottom: 0.5em;}#sk-container-id-1 div.sk-estimator:hover {background-color: #d4ebff;}#sk-container-id-1 div.sk-parallel-item::after {content: \"\";width: 100%;border-bottom: 1px solid gray;flex-grow: 1;}#sk-container-id-1 div.sk-label:hover label.sk-toggleable__label {background-color: #d4ebff;}#sk-container-id-1 div.sk-serial::before {content: \"\";position: absolute;border-left: 1px solid gray;box-sizing: border-box;top: 0;bottom: 0;left: 50%;z-index: 0;}#sk-container-id-1 div.sk-serial {display: flex;flex-direction: column;align-items: center;background-color: white;padding-right: 0.2em;padding-left: 0.2em;position: relative;}#sk-container-id-1 div.sk-item {position: relative;z-index: 1;}#sk-container-id-1 div.sk-parallel {display: flex;align-items: stretch;justify-content: center;background-color: white;position: relative;}#sk-container-id-1 div.sk-item::before, #sk-container-id-1 div.sk-parallel-item::before {content: \"\";position: absolute;border-left: 1px solid gray;box-sizing: border-box;top: 0;bottom: 0;left: 50%;z-index: -1;}#sk-container-id-1 div.sk-parallel-item {display: flex;flex-direction: column;z-index: 1;position: relative;background-color: white;}#sk-container-id-1 div.sk-parallel-item:first-child::after {align-self: flex-end;width: 50%;}#sk-container-id-1 div.sk-parallel-item:last-child::after {align-self: flex-start;width: 50%;}#sk-container-id-1 div.sk-parallel-item:only-child::after {width: 0;}#sk-container-id-1 div.sk-dashed-wrapped {border: 1px dashed gray;margin: 0 0.4em 0.5em 0.4em;box-sizing: border-box;padding-bottom: 0.4em;background-color: white;}#sk-container-id-1 div.sk-label label {font-family: monospace;font-weight: bold;display: inline-block;line-height: 1.2em;}#sk-container-id-1 div.sk-label-container {text-align: center;}#sk-container-id-1 div.sk-container {/* jupyter's `normalize.less` sets `[hidden] { display: none; }` but bootstrap.min.css set `[hidden] { display: none !important; }` so we also need the `!important` here to be able to override the default hidden behavior on the sphinx rendered scikit-learn.org. See: https://github.com/scikit-learn/scikit-learn/issues/21755 */display: inline-block !important;position: relative;}#sk-container-id-1 div.sk-text-repr-fallback {display: none;}</style><div id=\"sk-container-id-1\" class=\"sk-top-container\"><div class=\"sk-text-repr-fallback\"><pre>KNeighborsClassifier(n_neighbors=4)</pre><b>In a Jupyter environment, please rerun this cell to show the HTML representation or trust the notebook. <br />On GitHub, the HTML representation is unable to render, please try loading this page with nbviewer.org.</b></div><div class=\"sk-container\" hidden><div class=\"sk-item\"><div class=\"sk-estimator sk-toggleable\"><input class=\"sk-toggleable__control sk-hidden--visually\" id=\"sk-estimator-id-1\" type=\"checkbox\" checked><label for=\"sk-estimator-id-1\" class=\"sk-toggleable__label sk-toggleable__label-arrow\">KNeighborsClassifier</label><div class=\"sk-toggleable__content\"><pre>KNeighborsClassifier(n_neighbors=4)</pre></div></div></div></div></div>"
      ],
      "text/plain": [
       "KNeighborsClassifier(n_neighbors=4)"
      ]
     },
     "execution_count": 68,
     "metadata": {},
     "output_type": "execute_result"
    }
   ],
   "source": [
    "knn = KNeighborsClassifier(n_neighbors=4)\n",
    "knn.fit(X_train_scale, y_train)"
   ]
  },
  {
   "cell_type": "code",
   "execution_count": 69,
   "id": "d19810e1",
   "metadata": {},
   "outputs": [],
   "source": [
    "y_predict = knn.predict(X_test_scale)"
   ]
  },
  {
   "cell_type": "code",
   "execution_count": 72,
   "id": "37636df5",
   "metadata": {},
   "outputs": [
    {
     "data": {
      "text/plain": [
       "0.6382153249272551"
      ]
     },
     "execution_count": 72,
     "metadata": {},
     "output_type": "execute_result"
    }
   ],
   "source": [
    "accuracy_score(y_test,y_predict)"
   ]
  },
  {
   "cell_type": "code",
   "execution_count": 75,
   "id": "63c3c932",
   "metadata": {},
   "outputs": [
    {
     "data": {
      "text/plain": [
       "<sklearn.metrics._plot.confusion_matrix.ConfusionMatrixDisplay at 0x7fcac12bace0>"
      ]
     },
     "execution_count": 75,
     "metadata": {},
     "output_type": "execute_result"
    },
    {
     "data": {
      "image/png": "[encoded data removed]",
      "text/plain": [
       "<Figure size 640x480 with 2 Axes>"
      ]
     },
     "metadata": {},
     "output_type": "display_data"
    }
   ],
   "source": [
    "ConfusionMatrixDisplay.from_predictions(y_test, y_predict, display_labels=['No', 'Yes'])\n"
   ]
  },
  {
   "cell_type": "code",
   "execution_count": 76,
   "id": "2503a9db",
   "metadata": {},
   "outputs": [
    {
     "name": "stdout",
     "output_type": "stream",
     "text": [
      "              precision    recall  f1-score   support\n",
      "\n",
      "           0       0.34      0.18      0.23      5441\n",
      "           1       0.70      0.85      0.76     12086\n",
      "\n",
      "    accuracy                           0.64     17527\n",
      "   macro avg       0.52      0.51      0.50     17527\n",
      "weighted avg       0.58      0.64      0.60     17527\n",
      "\n"
     ]
    }
   ],
   "source": [
    "print(classification_report(y_test, y_predict))"
   ]
  },
  {
   "cell_type": "code",
   "execution_count": null,
   "id": "e78b716c",
   "metadata": {},
   "outputs": [],
   "source": [
    "grid_params = { 'n_neighbors': np.arange(1, 10), \n",
    "                'weights': ['uniform', 'distance'],\n",
    "                'p': np.arange(1, 3) }\n",
    "\n",
    "grid = GridSearchCV(knn, grid_params,scoring='accuracy')"
   ]
  },
  {
   "cell_type": "code",
   "execution_count": null,
   "id": "95d10b82",
   "metadata": {},
   "outputs": [],
   "source": [
    "grid.fit(X_train_scale, y_train)"
   ]
  },
  {
   "cell_type": "code",
   "execution_count": 83,
   "id": "303b6a96",
   "metadata": {},
   "outputs": [
    {
     "name": "stdout",
     "output_type": "stream",
     "text": [
      "The best parameters are  {'n_neighbors': 9, 'p': 1, 'weights': 'distance'}\n",
      "The best score is  0.8860725101194307\n"
     ]
    }
   ],
   "source": [
    "print(\"The best parameters are \", grid.best_params_)\n",
    "print(\"The best score is \", grid.best_score_)\n",
    "best_est = grid.best_estimator_"
   ]
  },
  {
   "cell_type": "code",
   "execution_count": 86,
   "id": "8450f9f3",
   "metadata": {},
   "outputs": [
    {
     "data": {
      "text/plain": [
       "<sklearn.metrics._plot.confusion_matrix.ConfusionMatrixDisplay at 0x7fcaf3d61900>"
      ]
     },
     "execution_count": 86,
     "metadata": {},
     "output_type": "execute_result"
    },
    {
     "data": {
      "image/png": "[encoded data removed]",
      "text/plain": [
       "<Figure size 640x480 with 2 Axes>"
      ]
     },
     "metadata": {},
     "output_type": "display_data"
    }
   ],
   "source": [
    "ConfusionMatrixDisplay.from_predictions(y_test, best_est.predict(X_test_scale), display_labels=['No', 'Yes'])"
   ]
  },
  {
   "cell_type": "code",
   "execution_count": 87,
   "id": "80a8a5d7",
   "metadata": {},
   "outputs": [
    {
     "name": "stdout",
     "output_type": "stream",
     "text": [
      "              precision    recall  f1-score   support\n",
      "\n",
      "           0       0.41      0.14      0.20      5441\n",
      "           1       0.70      0.91      0.79     12086\n",
      "\n",
      "    accuracy                           0.67     17527\n",
      "   macro avg       0.56      0.52      0.50     17527\n",
      "weighted avg       0.61      0.67      0.61     17527\n",
      "\n"
     ]
    }
   ],
   "source": [
    "print(classification_report(y_test, best_est.predict(X_test_scale)))"
   ]
  },
  {
   "cell_type": "code",
   "execution_count": 88,
   "id": "a59ec48f",
   "metadata": {},
   "outputs": [],
   "source": [
    "#multiple models"
   ]
  },
  {
   "cell_type": "code",
   "execution_count": 90,
   "id": "6cadaa95",
   "metadata": {},
   "outputs": [],
   "source": [
    "MultipleModels = {'LogisticRegression':LogisticRegression(),\n",
    "                 'DecisionTreeClassifier': DecisionTreeClassifier(),\n",
    "                 'RandomForestClassifier': RandomForestClassifier()}"
   ]
  },
  {
   "cell_type": "code",
   "execution_count": 91,
   "id": "dff58f88",
   "metadata": {},
   "outputs": [],
   "source": [
    "scores=[]\n",
    "for name, model in MultipleModels.items():\n",
    "    model.fit(X_train_scale, y_train)\n",
    "    y_pred=model.predict(X_test_scale)\n",
    "    scores.append({\n",
    "        'name':name,\n",
    "        'accuracy':accuracy_score(y_test,y_pred),\n",
    "        'recall':recall_score(y_test,y_pred),\n",
    "        'precision':precision_score(y_test,y_pred),\n",
    "        'f1': f1_score(y_test,y_pred)\n",
    "    })"
   ]
  },
  {
   "cell_type": "code",
   "execution_count": 92,
   "id": "5d7fe300",
   "metadata": {},
   "outputs": [
    {
     "name": "stdout",
     "output_type": "stream",
     "text": [
      "                     name  accuracy    recall  precision        f1\n",
      "0      LogisticRegression  0.667370  0.885570   0.706469  0.785945\n",
      "1  DecisionTreeClassifier  0.674559  0.822522   0.736370  0.777066\n",
      "2  RandomForestClassifier  0.691048  0.962353   0.701043  0.811173\n"
     ]
    }
   ],
   "source": [
    "df_scores = print(pd.DataFrame(scores))"
   ]
  },
  {
   "cell_type": "code",
   "execution_count": 96,
   "id": "e981c22c",
   "metadata": {},
   "outputs": [],
   "source": [
    "clf=RandomForestClassifier(n_estimators=10)\n",
    "\n",
    "#Train the model using the training sets y_pred=clf.predict(X_test)\n",
    "clf.fit(X_train,y_train)\n",
    "\n",
    "y_pred=clf.predict(X_test)"
   ]
  },
  {
   "cell_type": "code",
   "execution_count": 105,
   "id": "37028ad7",
   "metadata": {},
   "outputs": [
    {
     "name": "stdout",
     "output_type": "stream",
     "text": [
      "Accuracy: 0.6875677526102585\n"
     ]
    }
   ],
   "source": [
    "from sklearn import metrics\n",
    "\n",
    "print(\"Accuracy:\",metrics.accuracy_score(y_test, y_pred))"
   ]
  },
  {
   "cell_type": "code",
   "execution_count": 102,
   "id": "01dfe8ba",
   "metadata": {},
   "outputs": [],
   "source": [
    "logr = LogisticRegression()\n",
    "logr.fit(X_train, y_train)\n",
    "y_log_pred = logr.predict(X_test)"
   ]
  },
  {
   "cell_type": "code",
   "execution_count": 103,
   "id": "12550b89",
   "metadata": {},
   "outputs": [
    {
     "name": "stdout",
     "output_type": "stream",
     "text": [
      "              precision    recall  f1-score   support\n",
      "\n",
      "           0       0.43      0.20      0.27      5441\n",
      "           1       0.71      0.88      0.79     12086\n",
      "\n",
      "    accuracy                           0.67     17527\n",
      "   macro avg       0.57      0.54      0.53     17527\n",
      "weighted avg       0.62      0.67      0.63     17527\n",
      "\n"
     ]
    }
   ],
   "source": [
    "print(classification_report(y_test, y_log_pred))"
   ]
  },
  {
   "cell_type": "code",
   "execution_count": 110,
   "id": "e58872b5",
   "metadata": {},
   "outputs": [
    {
     "name": "stdout",
     "output_type": "stream",
     "text": [
      "0.6706795230216238\n"
     ]
    }
   ],
   "source": [
    "score = logr.score(X_test, y_test)\n",
    "print(score)"
   ]
  },
  {
   "cell_type": "code",
   "execution_count": 104,
   "id": "5a4d1a1d",
   "metadata": {},
   "outputs": [
    {
     "data": {
      "text/plain": [
       "<sklearn.metrics._plot.confusion_matrix.ConfusionMatrixDisplay at 0x7fcac1fcf490>"
      ]
     },
     "execution_count": 104,
     "metadata": {},
     "output_type": "execute_result"
    },
    {
     "data": {
      "image/png": "[encoded data removed]",
      "text/plain": [
       "<Figure size 640x480 with 2 Axes>"
      ]
     },
     "metadata": {},
     "output_type": "display_data"
    }
   ],
   "source": [
    "ConfusionMatrixDisplay.from_predictions(y_test, y_log_pred, display_labels=['No', 'Yes'])"
   ]
  },
  {
   "cell_type": "code",
   "execution_count": null,
   "id": "52a4e735",
   "metadata": {},
   "outputs": [],
   "source": []
  },
  {
   "cell_type": "code",
   "execution_count": null,
   "id": "60466ab7",
   "metadata": {},
   "outputs": [],
   "source": []
  }
 ],
 "metadata": {
  "kernelspec": {
   "display_name": "Python 3 (ipykernel)",
   "language": "python",
   "name": "python3"
  },
  "language_info": {
   "codemirror_mode": {
    "name": "ipython",
    "version": 3
   },
   "file_extension": ".py",
   "mimetype": "text/x-python",
   "name": "python",
   "nbconvert_exporter": "python",
   "pygments_lexer": "ipython3",
   "version": "3.10.6"
  }
 },
 "nbformat": 4,
 "nbformat_minor": 5
}
